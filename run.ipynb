{
 "cells": [
  {
   "cell_type": "markdown",
   "metadata": {
    "deletable": true,
    "editable": true
   },
   "source": [
    "# Home Depot Product Search Relevance "
   ]
  },
  {
   "cell_type": "markdown",
   "metadata": {
    "deletable": true,
    "editable": true
   },
   "source": [
    "# 1. Background"
   ]
  },
  {
   "cell_type": "markdown",
   "metadata": {
    "collapsed": true,
    "deletable": true,
    "editable": true
   },
   "source": [
    "In this project, we are given a dataset that contains a number of products and real customer search terms from Home Depot's website. The challenge is to predict a relevance score for the provided combinations of search terms and products. To create the ground truth labels, Home Depot has crowdsourced the search/product pairs to multiple human raters. The relevance is a number between 1 (not relevant) to 3 (highly relevant)."
   ]
  },
  {
   "cell_type": "markdown",
   "metadata": {
    "deletable": true,
    "editable": true
   },
   "source": [
    "We are provided with the following information:\n",
    "\n",
    "    id - a unique Id field which represents a (search_term, product_uid) pair\n",
    "    product_uid - an id for the products\n",
    "    product_title - the product title\n",
    "    product_description - the text description of the product (may contain HTML content)\n",
    "    search_term - the search query\n",
    "    name - an attribute name\n",
    "    value - the attribute's value\n",
    "    relevance - the average of the relevance ratings for a given id\n",
    "\n",
    "Our task is to build up a regression model, and for each id in the test set, it should predict a relevance, which is a real number in [1,3]."
   ]
  },
  {
   "cell_type": "markdown",
   "metadata": {
    "deletable": true,
    "editable": true
   },
   "source": [
    "# 2. Data Explore"
   ]
  },
  {
   "cell_type": "markdown",
   "metadata": {
    "deletable": true,
    "editable": true
   },
   "source": [
    "First of all, we want to read data from HDFS and save them to dataframes."
   ]
  },
  {
   "cell_type": "code",
   "execution_count": 5,
   "metadata": {
    "collapsed": true,
    "deletable": true,
    "editable": true
   },
   "outputs": [],
   "source": [
    "#To succesfully run this script, you need to install nltk package.\n",
    "import numpy as np\n",
    "import pandas as pd\n",
    "#import pysaprk\n",
    "from pyspark import SparkContext\n",
    "from pyspark import SQLContext"
   ]
  },
  {
   "cell_type": "code",
   "execution_count": 6,
   "metadata": {
    "collapsed": false
   },
   "outputs": [],
   "source": [
    "import pydoop\n",
    "import pydoop.hdfs as hd\n",
    "with hd.open(\"final/train.csv\") as f:\n",
    "    df_train =  pd.read_csv(f, encoding=\"ISO-8859-1\")"
   ]
  },
  {
   "cell_type": "code",
   "execution_count": 7,
   "metadata": {
    "collapsed": true
   },
   "outputs": [],
   "source": [
    "with hd.open(\"final/test.csv\") as f:\n",
    "    df_test =  pd.read_csv(f, encoding=\"ISO-8859-1\")\n",
    "with hd.open(\"final/attributes.csv\") as f:\n",
    "    attr =  pd.read_csv(f)\n",
    "with hd.open(\"final/product_descriptions.csv\") as f:\n",
    "    desc =  pd.read_csv(f, encoding=\"ISO-8859-1\")"
   ]
  },
  {
   "cell_type": "code",
   "execution_count": 8,
   "metadata": {
    "collapsed": false,
    "deletable": true,
    "editable": true
   },
   "outputs": [],
   "source": [
    "#read data\n",
    "#df_train = pd.read_csv('./train.csv',encoding=\"ISO-8859-1\")\n",
    "#df_test = pd.read_csv('./test.csv',encoding=\"ISO-8859-1\")\n",
    "#attr = pd.read_csv(\"./attributes.csv\")\n",
    "#desc = pd.read_csv('./product_descriptions.csv', encoding=\"ISO-8859-1\")"
   ]
  },
  {
   "cell_type": "markdown",
   "metadata": {
    "deletable": true,
    "editable": true
   },
   "source": [
    "We can explore some basic information of train and test set."
   ]
  },
  {
   "cell_type": "code",
   "execution_count": 9,
   "metadata": {
    "collapsed": false,
    "deletable": true,
    "editable": true
   },
   "outputs": [
    {
     "name": "stdout",
     "output_type": "stream",
     "text": [
      "<class 'pandas.core.frame.DataFrame'>\n",
      "RangeIndex: 74067 entries, 0 to 74066\n",
      "Data columns (total 5 columns):\n",
      "id               74067 non-null int64\n",
      "product_uid      74067 non-null int64\n",
      "product_title    74067 non-null object\n",
      "search_term      74067 non-null object\n",
      "relevance        74067 non-null float64\n",
      "dtypes: float64(1), int64(2), object(2)\n",
      "memory usage: 2.8+ MB\n"
     ]
    }
   ],
   "source": [
    "df_train.info()"
   ]
  },
  {
   "cell_type": "code",
   "execution_count": 10,
   "metadata": {
    "collapsed": false,
    "deletable": true,
    "editable": true
   },
   "outputs": [
    {
     "data": {
      "text/plain": [
       "54667"
      ]
     },
     "execution_count": 10,
     "metadata": {},
     "output_type": "execute_result"
    }
   ],
   "source": [
    "len(df_train['product_uid'].unique())"
   ]
  },
  {
   "cell_type": "code",
   "execution_count": 11,
   "metadata": {
    "collapsed": false,
    "deletable": true,
    "editable": true
   },
   "outputs": [
    {
     "data": {
      "text/plain": [
       "97460"
      ]
     },
     "execution_count": 11,
     "metadata": {},
     "output_type": "execute_result"
    }
   ],
   "source": [
    "len(df_test['product_uid'].unique())"
   ]
  },
  {
   "cell_type": "markdown",
   "metadata": {
    "deletable": true,
    "editable": true
   },
   "source": [
    "There are 54667 samples in the training dataset, and 97460 samples in test set. Based on number of products in training set and test set, there are around twice more numbers of products in test set than training set, which means the features(word) of about half instances in test set have never showed up in training set. This could be a big challenge for prediction on test set, as there could be many features the model could not catch during the training process. "
   ]
  },
  {
   "cell_type": "markdown",
   "metadata": {
    "deletable": true,
    "editable": true
   },
   "source": [
    "I also explored the distribution of relevance in training set, and ploted it as histogram."
   ]
  },
  {
   "cell_type": "code",
   "execution_count": 12,
   "metadata": {
    "collapsed": false,
    "deletable": true,
    "editable": true
   },
   "outputs": [
    {
     "data": {
      "text/plain": [
       "count    74067.000000\n",
       "mean         2.381634\n",
       "std          0.533984\n",
       "min          1.000000\n",
       "25%          2.000000\n",
       "50%          2.330000\n",
       "75%          3.000000\n",
       "max          3.000000\n",
       "Name: relevance, dtype: float64"
      ]
     },
     "execution_count": 12,
     "metadata": {},
     "output_type": "execute_result"
    }
   ],
   "source": [
    "df_train[\"relevance\"].describe()"
   ]
  },
  {
   "cell_type": "code",
   "execution_count": 13,
   "metadata": {
    "collapsed": true,
    "deletable": true,
    "editable": true
   },
   "outputs": [],
   "source": [
    "%matplotlib inline \n",
    "import matplotlib.pyplot as plt"
   ]
  },
  {
   "cell_type": "code",
   "execution_count": 14,
   "metadata": {
    "collapsed": false,
    "deletable": true,
    "editable": true
   },
   "outputs": [
    {
     "data": {
      "text/plain": [
       "<matplotlib.axes._subplots.AxesSubplot at 0x7f2af7baa8d0>"
      ]
     },
     "execution_count": 14,
     "metadata": {},
     "output_type": "execute_result"
    },
    {
     "data": {
      "image/png": "[encoded data removed]",
      "text/plain": [
       "<matplotlib.figure.Figure at 0x7f2b5039cb50>"
      ]
     },
     "metadata": {},
     "output_type": "display_data"
    }
   ],
   "source": [
    "df_train[\"relevance\"].plot.hist()"
   ]
  },
  {
   "cell_type": "markdown",
   "metadata": {
    "deletable": true,
    "editable": true
   },
   "source": [
    "Obviously, the relevance is highly skewed in training data, as most of the score were from 2.00 to 3.00. While as the frequency of each bin is high, I think this should not be a very big problem for regression. So I keep all the data."
   ]
  },
  {
   "cell_type": "markdown",
   "metadata": {
    "deletable": true,
    "editable": true
   },
   "source": [
    "Then training set and test set were combined together for further pre-processing."
   ]
  },
  {
   "cell_type": "code",
   "execution_count": 15,
   "metadata": {
    "collapsed": true,
    "deletable": true,
    "editable": true
   },
   "outputs": [],
   "source": [
    "df_all = pd.concat((df_train, df_test), axis=0, ignore_index=True)"
   ]
  },
  {
   "cell_type": "markdown",
   "metadata": {},
   "source": []
  },
  {
   "cell_type": "markdown",
   "metadata": {
    "collapsed": false,
    "deletable": true,
    "editable": true
   },
   "source": [
    "As different product has different numbers of attributes in attribute file, I want to combine them together and mapped it back based on product_uid, so it can be treated as a new text feature."
   ]
  },
  {
   "cell_type": "code",
   "execution_count": 16,
   "metadata": {
    "collapsed": false,
    "deletable": true,
    "editable": true
   },
   "outputs": [],
   "source": [
    "#join values of all names of one product\n",
    "def join_values(attribute):\n",
    "    #name = attribute[\"name\"]\n",
    "    values = attribute[\"value\"]\n",
    "    values_str= [str(i) for i in values.tolist()]\n",
    "    result= \" \".join(values_str)\n",
    "    return result\n",
    "    \n",
    "newAttr= attr.groupby([\"product_uid\"]).apply(join_values)"
   ]
  },
  {
   "cell_type": "code",
   "execution_count": 17,
   "metadata": {
    "collapsed": false,
    "deletable": true,
    "editable": true
   },
   "outputs": [],
   "source": [
    "attr = newAttr.reset_index(name=\"product_attributes\")"
   ]
  },
  {
   "cell_type": "code",
   "execution_count": 18,
   "metadata": {
    "collapsed": false,
    "deletable": true,
    "editable": true
   },
   "outputs": [
    {
     "data": {
      "text/html": [
       "<div>\n",
       "<table border=\"1\" class=\"dataframe\">\n",
       "  <thead>\n",
       "    <tr style=\"text-align: right;\">\n",
       "      <th></th>\n",
       "      <th>product_uid</th>\n",
       "      <th>product_attributes</th>\n",
       "    </tr>\n",
       "  </thead>\n",
       "  <tbody>\n",
       "    <tr>\n",
       "      <th>0</th>\n",
       "      <td>100001.0</td>\n",
       "      <td>Versatile connector for various 90° connection...</td>\n",
       "    </tr>\n",
       "    <tr>\n",
       "      <th>1</th>\n",
       "      <td>100002.0</td>\n",
       "      <td>Brush,Roller,Spray 6.63 in 7.76 in 6.63 in Rev...</td>\n",
       "    </tr>\n",
       "    <tr>\n",
       "      <th>2</th>\n",
       "      <td>100003.0</td>\n",
       "      <td>Yes Slightly narrower for tighter spaces Desig...</td>\n",
       "    </tr>\n",
       "    <tr>\n",
       "      <th>3</th>\n",
       "      <td>100004.0</td>\n",
       "      <td>8.56 Positive power tolerance (0 to +5-Watt) A...</td>\n",
       "    </tr>\n",
       "    <tr>\n",
       "      <th>4</th>\n",
       "      <td>100005.0</td>\n",
       "      <td>Combo Tub and Shower No Includes the trim kit ...</td>\n",
       "    </tr>\n",
       "    <tr>\n",
       "      <th>5</th>\n",
       "      <td>100006.0</td>\n",
       "      <td>Over the Range Microwave 18.5 in 17.13 in 29.9...</td>\n",
       "    </tr>\n",
       "    <tr>\n",
       "      <th>6</th>\n",
       "      <td>100007.0</td>\n",
       "      <td>Ni-Cad .Built-In LED Advanced LED technology i...</td>\n",
       "    </tr>\n",
       "    <tr>\n",
       "      <th>7</th>\n",
       "      <td>100008.0</td>\n",
       "      <td>.375 in 1.5 in .375 in For metal to metal fast...</td>\n",
       "    </tr>\n",
       "    <tr>\n",
       "      <th>8</th>\n",
       "      <td>100009.0</td>\n",
       "      <td>Door &amp; Window Made of primed MDF Can be painte...</td>\n",
       "    </tr>\n",
       "    <tr>\n",
       "      <th>9</th>\n",
       "      <td>100010.0</td>\n",
       "      <td>No Can be used with all valley View lawn edgin...</td>\n",
       "    </tr>\n",
       "    <tr>\n",
       "      <th>10</th>\n",
       "      <td>100011.0</td>\n",
       "      <td>59 in 44 in 23 in 22 in Recycler cutting syste...</td>\n",
       "    </tr>\n",
       "    <tr>\n",
       "      <th>11</th>\n",
       "      <td>100012.0</td>\n",
       "      <td>96 No 96 in. W x 72 in. L Actual Blind Width i...</td>\n",
       "    </tr>\n",
       "    <tr>\n",
       "      <th>12</th>\n",
       "      <td>100013.0</td>\n",
       "      <td>Kit includes satin nickel, chrome and white fi...</td>\n",
       "    </tr>\n",
       "    <tr>\n",
       "      <th>13</th>\n",
       "      <td>100014.0</td>\n",
       "      <td>10 Folds up for easy storage virtually anywher...</td>\n",
       "    </tr>\n",
       "    <tr>\n",
       "      <th>14</th>\n",
       "      <td>100015.0</td>\n",
       "      <td>Pest resistant Strong and durable Easy install...</td>\n",
       "    </tr>\n",
       "    <tr>\n",
       "      <th>15</th>\n",
       "      <td>100016.0</td>\n",
       "      <td>8 5 96.45 in 98.4 in 60.6 in Vented canopy Bui...</td>\n",
       "    </tr>\n",
       "    <tr>\n",
       "      <th>16</th>\n",
       "      <td>100017.0</td>\n",
       "      <td>Use to repair door or window screens, or add s...</td>\n",
       "    </tr>\n",
       "    <tr>\n",
       "      <th>17</th>\n",
       "      <td>100018.0</td>\n",
       "      <td>Size: 3.25 in. diameter x 2.75 in. tall Thread...</td>\n",
       "    </tr>\n",
       "    <tr>\n",
       "      <th>18</th>\n",
       "      <td>100019.0</td>\n",
       "      <td>Wall MDF kit includes, 1-piece 8 ft. chairrail...</td>\n",
       "    </tr>\n",
       "    <tr>\n",
       "      <th>19</th>\n",
       "      <td>100020.0</td>\n",
       "      <td>LED Great LED technology 5 watt Last for 30,00...</td>\n",
       "    </tr>\n",
       "    <tr>\n",
       "      <th>20</th>\n",
       "      <td>100021.0</td>\n",
       "      <td>6 in 2.25 in 2.25 in Spray distance from 8 ft....</td>\n",
       "    </tr>\n",
       "    <tr>\n",
       "      <th>21</th>\n",
       "      <td>100022.0</td>\n",
       "      <td>15 Front Load Washer 33 in 38.7 in 27 in 4.2 c...</td>\n",
       "    </tr>\n",
       "    <tr>\n",
       "      <th>22</th>\n",
       "      <td>100023.0</td>\n",
       "      <td>Designed to be used in slab-on-grade applicati...</td>\n",
       "    </tr>\n",
       "    <tr>\n",
       "      <th>23</th>\n",
       "      <td>100024.0</td>\n",
       "      <td>Power lights, tools, refrigerators, freezers a...</td>\n",
       "    </tr>\n",
       "    <tr>\n",
       "      <th>24</th>\n",
       "      <td>100025.0</td>\n",
       "      <td>Easy assembly Telescopic dolly Rubber swivel w...</td>\n",
       "    </tr>\n",
       "    <tr>\n",
       "      <th>25</th>\n",
       "      <td>100026.0</td>\n",
       "      <td>120 in 1.5 in 120 in No Beautiful color blend ...</td>\n",
       "    </tr>\n",
       "    <tr>\n",
       "      <th>26</th>\n",
       "      <td>100027.0</td>\n",
       "      <td>Reflects up to 97% of radiant energy, reducing...</td>\n",
       "    </tr>\n",
       "    <tr>\n",
       "      <th>27</th>\n",
       "      <td>100028.0</td>\n",
       "      <td>Fresh water reed has a rapid growth rate which...</td>\n",
       "    </tr>\n",
       "    <tr>\n",
       "      <th>28</th>\n",
       "      <td>100029.0</td>\n",
       "      <td>Ultra-matte sheen that can be quickly customiz...</td>\n",
       "    </tr>\n",
       "    <tr>\n",
       "      <th>29</th>\n",
       "      <td>100030.0</td>\n",
       "      <td>Weight capacity of 100 lbs. per pair of bracke...</td>\n",
       "    </tr>\n",
       "    <tr>\n",
       "      <th>...</th>\n",
       "      <td>...</td>\n",
       "      <td>...</td>\n",
       "    </tr>\n",
       "    <tr>\n",
       "      <th>86233</th>\n",
       "      <td>224396.0</td>\n",
       "      <td>J-Bend comes with captive nut Includes 3 slip ...</td>\n",
       "    </tr>\n",
       "    <tr>\n",
       "      <th>86234</th>\n",
       "      <td>224397.0</td>\n",
       "      <td>Air Hose Accessory 8.625 in 3 in 8.75 in 1/4 i...</td>\n",
       "    </tr>\n",
       "    <tr>\n",
       "      <th>86235</th>\n",
       "      <td>224398.0</td>\n",
       "      <td>0 No 0 Lithium Ion Lithium Ion Part of the 20-...</td>\n",
       "    </tr>\n",
       "    <tr>\n",
       "      <th>86236</th>\n",
       "      <td>224399.0</td>\n",
       "      <td>Track, matching door knob and hardware include...</td>\n",
       "    </tr>\n",
       "    <tr>\n",
       "      <th>86237</th>\n",
       "      <td>224400.0</td>\n",
       "      <td>For use as a main breaker in a main breaker or...</td>\n",
       "    </tr>\n",
       "    <tr>\n",
       "      <th>86238</th>\n",
       "      <td>224401.0</td>\n",
       "      <td>.69 in .577 in .5 in 3-pieces per pack Steel c...</td>\n",
       "    </tr>\n",
       "    <tr>\n",
       "      <th>86239</th>\n",
       "      <td>224402.0</td>\n",
       "      <td>No Compact design for daily use Holder is ligh...</td>\n",
       "    </tr>\n",
       "    <tr>\n",
       "      <th>86240</th>\n",
       "      <td>224403.0</td>\n",
       "      <td>No Beige No All weatherproof Will not rust Wea...</td>\n",
       "    </tr>\n",
       "    <tr>\n",
       "      <th>86241</th>\n",
       "      <td>224404.0</td>\n",
       "      <td>No Includes two green plastic zip ties Feature...</td>\n",
       "    </tr>\n",
       "    <tr>\n",
       "      <th>86242</th>\n",
       "      <td>224405.0</td>\n",
       "      <td>Vista Stub 500 mm 1 year warranty Black color ...</td>\n",
       "    </tr>\n",
       "    <tr>\n",
       "      <th>86243</th>\n",
       "      <td>224406.0</td>\n",
       "      <td>Yes No Incandescent,No Bulbs Included Textured...</td>\n",
       "    </tr>\n",
       "    <tr>\n",
       "      <th>86244</th>\n",
       "      <td>224407.0</td>\n",
       "      <td>Dummy 2.5625 in 2.625 in 4.15625 in Designer s...</td>\n",
       "    </tr>\n",
       "    <tr>\n",
       "      <th>86245</th>\n",
       "      <td>224408.0</td>\n",
       "      <td>0.622 0.682 Flexible construction installs wit...</td>\n",
       "    </tr>\n",
       "    <tr>\n",
       "      <th>86246</th>\n",
       "      <td>224409.0</td>\n",
       "      <td>No Spectacular picture with Full HD 1080p reso...</td>\n",
       "    </tr>\n",
       "    <tr>\n",
       "      <th>86247</th>\n",
       "      <td>224410.0</td>\n",
       "      <td>Wall Trim and Chair Rail Modeled after origina...</td>\n",
       "    </tr>\n",
       "    <tr>\n",
       "      <th>86248</th>\n",
       "      <td>224411.0</td>\n",
       "      <td>Brush Crystal clear finish is ideal for use ov...</td>\n",
       "    </tr>\n",
       "    <tr>\n",
       "      <th>86249</th>\n",
       "      <td>224412.0</td>\n",
       "      <td>Evergreen,Hummingbird/Butterfly Attractant Per...</td>\n",
       "    </tr>\n",
       "    <tr>\n",
       "      <th>86250</th>\n",
       "      <td>224413.0</td>\n",
       "      <td>Gas Range 12500 Oven 5.0 cu. ft. oven allow yo...</td>\n",
       "    </tr>\n",
       "    <tr>\n",
       "      <th>86251</th>\n",
       "      <td>224414.0</td>\n",
       "      <td>20 Insulation is tough heat and moisture resis...</td>\n",
       "    </tr>\n",
       "    <tr>\n",
       "      <th>86252</th>\n",
       "      <td>224415.0</td>\n",
       "      <td>Evolution controller the next generation of in...</td>\n",
       "    </tr>\n",
       "    <tr>\n",
       "      <th>86253</th>\n",
       "      <td>224416.0</td>\n",
       "      <td>Brass piping and tee construction for durabili...</td>\n",
       "    </tr>\n",
       "    <tr>\n",
       "      <th>86254</th>\n",
       "      <td>224417.0</td>\n",
       "      <td>Incandescent Incandescent 40-Watt bulb include...</td>\n",
       "    </tr>\n",
       "    <tr>\n",
       "      <th>86255</th>\n",
       "      <td>224419.0</td>\n",
       "      <td>Make your own Paracord survival bracelet to en...</td>\n",
       "    </tr>\n",
       "    <tr>\n",
       "      <th>86256</th>\n",
       "      <td>224420.0</td>\n",
       "      <td>0.15 in 4.25 in 2 in 1-piece per bag Steel con...</td>\n",
       "    </tr>\n",
       "    <tr>\n",
       "      <th>86257</th>\n",
       "      <td>224421.0</td>\n",
       "      <td>Yes Yes To speak to a bathtub specialist simpl...</td>\n",
       "    </tr>\n",
       "    <tr>\n",
       "      <th>86258</th>\n",
       "      <td>224422.0</td>\n",
       "      <td>0.44 in 1.5 in 0.44 in 2 piece per pack Brass ...</td>\n",
       "    </tr>\n",
       "    <tr>\n",
       "      <th>86259</th>\n",
       "      <td>224423.0</td>\n",
       "      <td>Adjusts to fit shower openings with a minimum ...</td>\n",
       "    </tr>\n",
       "    <tr>\n",
       "      <th>86260</th>\n",
       "      <td>224424.0</td>\n",
       "      <td>No Solid wood construction, only the side and ...</td>\n",
       "    </tr>\n",
       "    <tr>\n",
       "      <th>86261</th>\n",
       "      <td>224425.0</td>\n",
       "      <td>49 in 2 in 20.5 in Resists fading, stains and ...</td>\n",
       "    </tr>\n",
       "    <tr>\n",
       "      <th>86262</th>\n",
       "      <td>224428.0</td>\n",
       "      <td>No 4 in 1.6 Bi-Metal Progressor tooth design f...</td>\n",
       "    </tr>\n",
       "  </tbody>\n",
       "</table>\n",
       "<p>86263 rows × 2 columns</p>\n",
       "</div>"
      ],
      "text/plain": [
       "       product_uid                                 product_attributes\n",
       "0         100001.0  Versatile connector for various 90° connection...\n",
       "1         100002.0  Brush,Roller,Spray 6.63 in 7.76 in 6.63 in Rev...\n",
       "2         100003.0  Yes Slightly narrower for tighter spaces Desig...\n",
       "3         100004.0  8.56 Positive power tolerance (0 to +5-Watt) A...\n",
       "4         100005.0  Combo Tub and Shower No Includes the trim kit ...\n",
       "5         100006.0  Over the Range Microwave 18.5 in 17.13 in 29.9...\n",
       "6         100007.0  Ni-Cad .Built-In LED Advanced LED technology i...\n",
       "7         100008.0  .375 in 1.5 in .375 in For metal to metal fast...\n",
       "8         100009.0  Door & Window Made of primed MDF Can be painte...\n",
       "9         100010.0  No Can be used with all valley View lawn edgin...\n",
       "10        100011.0  59 in 44 in 23 in 22 in Recycler cutting syste...\n",
       "11        100012.0  96 No 96 in. W x 72 in. L Actual Blind Width i...\n",
       "12        100013.0  Kit includes satin nickel, chrome and white fi...\n",
       "13        100014.0  10 Folds up for easy storage virtually anywher...\n",
       "14        100015.0  Pest resistant Strong and durable Easy install...\n",
       "15        100016.0  8 5 96.45 in 98.4 in 60.6 in Vented canopy Bui...\n",
       "16        100017.0  Use to repair door or window screens, or add s...\n",
       "17        100018.0  Size: 3.25 in. diameter x 2.75 in. tall Thread...\n",
       "18        100019.0  Wall MDF kit includes, 1-piece 8 ft. chairrail...\n",
       "19        100020.0  LED Great LED technology 5 watt Last for 30,00...\n",
       "20        100021.0  6 in 2.25 in 2.25 in Spray distance from 8 ft....\n",
       "21        100022.0  15 Front Load Washer 33 in 38.7 in 27 in 4.2 c...\n",
       "22        100023.0  Designed to be used in slab-on-grade applicati...\n",
       "23        100024.0  Power lights, tools, refrigerators, freezers a...\n",
       "24        100025.0  Easy assembly Telescopic dolly Rubber swivel w...\n",
       "25        100026.0  120 in 1.5 in 120 in No Beautiful color blend ...\n",
       "26        100027.0  Reflects up to 97% of radiant energy, reducing...\n",
       "27        100028.0  Fresh water reed has a rapid growth rate which...\n",
       "28        100029.0  Ultra-matte sheen that can be quickly customiz...\n",
       "29        100030.0  Weight capacity of 100 lbs. per pair of bracke...\n",
       "...            ...                                                ...\n",
       "86233     224396.0  J-Bend comes with captive nut Includes 3 slip ...\n",
       "86234     224397.0  Air Hose Accessory 8.625 in 3 in 8.75 in 1/4 i...\n",
       "86235     224398.0  0 No 0 Lithium Ion Lithium Ion Part of the 20-...\n",
       "86236     224399.0  Track, matching door knob and hardware include...\n",
       "86237     224400.0  For use as a main breaker in a main breaker or...\n",
       "86238     224401.0  .69 in .577 in .5 in 3-pieces per pack Steel c...\n",
       "86239     224402.0  No Compact design for daily use Holder is ligh...\n",
       "86240     224403.0  No Beige No All weatherproof Will not rust Wea...\n",
       "86241     224404.0  No Includes two green plastic zip ties Feature...\n",
       "86242     224405.0  Vista Stub 500 mm 1 year warranty Black color ...\n",
       "86243     224406.0  Yes No Incandescent,No Bulbs Included Textured...\n",
       "86244     224407.0  Dummy 2.5625 in 2.625 in 4.15625 in Designer s...\n",
       "86245     224408.0  0.622 0.682 Flexible construction installs wit...\n",
       "86246     224409.0  No Spectacular picture with Full HD 1080p reso...\n",
       "86247     224410.0  Wall Trim and Chair Rail Modeled after origina...\n",
       "86248     224411.0  Brush Crystal clear finish is ideal for use ov...\n",
       "86249     224412.0  Evergreen,Hummingbird/Butterfly Attractant Per...\n",
       "86250     224413.0  Gas Range 12500 Oven 5.0 cu. ft. oven allow yo...\n",
       "86251     224414.0  20 Insulation is tough heat and moisture resis...\n",
       "86252     224415.0  Evolution controller the next generation of in...\n",
       "86253     224416.0  Brass piping and tee construction for durabili...\n",
       "86254     224417.0  Incandescent Incandescent 40-Watt bulb include...\n",
       "86255     224419.0  Make your own Paracord survival bracelet to en...\n",
       "86256     224420.0  0.15 in 4.25 in 2 in 1-piece per bag Steel con...\n",
       "86257     224421.0  Yes Yes To speak to a bathtub specialist simpl...\n",
       "86258     224422.0  0.44 in 1.5 in 0.44 in 2 piece per pack Brass ...\n",
       "86259     224423.0  Adjusts to fit shower openings with a minimum ...\n",
       "86260     224424.0  No Solid wood construction, only the side and ...\n",
       "86261     224425.0  49 in 2 in 20.5 in Resists fading, stains and ...\n",
       "86262     224428.0  No 4 in 1.6 Bi-Metal Progressor tooth design f...\n",
       "\n",
       "[86263 rows x 2 columns]"
      ]
     },
     "execution_count": 18,
     "metadata": {},
     "output_type": "execute_result"
    }
   ],
   "source": [
    "attr"
   ]
  },
  {
   "cell_type": "markdown",
   "metadata": {
    "deletable": true,
    "editable": true
   },
   "source": []
  },
  {
   "cell_type": "code",
   "execution_count": 19,
   "metadata": {
    "collapsed": false,
    "deletable": true,
    "editable": true
   },
   "outputs": [],
   "source": [
    "#two new features, product description and attributes, are merged to dataframe\n",
    "df_all = pd.merge(df_all, desc, how='left', on='product_uid')\n",
    "df_all = pd.merge(df_all, attr, how=\"left\", on=\"product_uid\")\n"
   ]
  },
  {
   "cell_type": "code",
   "execution_count": 20,
   "metadata": {
    "collapsed": false,
    "deletable": true,
    "editable": true
   },
   "outputs": [
    {
     "name": "stdout",
     "output_type": "stream",
     "text": [
      "<class 'pandas.core.frame.DataFrame'>\n",
      "Int64Index: 240760 entries, 0 to 240759\n",
      "Data columns (total 7 columns):\n",
      "id                     240760 non-null int64\n",
      "product_title          240760 non-null object\n",
      "product_uid            240760 non-null int64\n",
      "relevance              74067 non-null float64\n",
      "search_term            240760 non-null object\n",
      "product_description    240760 non-null object\n",
      "product_attributes     194935 non-null object\n",
      "dtypes: float64(1), int64(2), object(4)\n",
      "memory usage: 14.7+ MB\n"
     ]
    }
   ],
   "source": [
    "df_all.info()\n"
   ]
  },
  {
   "cell_type": "markdown",
   "metadata": {},
   "source": [
    "\n",
    "Now, we have dataset with 5 features: <br>\n",
    "    1. product_uid\n",
    "    2. search_term\n",
    "    3. product_title\n",
    "    4. product_description\n",
    "    5. product_attributes\n",
    "    \n",
    "And the target to be predicted is: <br>\n",
    "    1. Relevance\n"
   ]
  },
  {
   "cell_type": "markdown",
   "metadata": {},
   "source": [
    "# 3. Pre-processing"
   ]
  },
  {
   "cell_type": "markdown",
   "metadata": {},
   "source": [
    "### 3.1 Fill in Missing values"
   ]
  },
  {
   "cell_type": "code",
   "execution_count": 21,
   "metadata": {
    "collapsed": false,
    "deletable": true,
    "editable": true
   },
   "outputs": [],
   "source": [
    "#fill in the missing values in product_attributes\n",
    "df_all[\"product_attributes\"] = df_all[\"product_attributes\"].fillna(\"\")"
   ]
  },
  {
   "cell_type": "code",
   "execution_count": 22,
   "metadata": {
    "collapsed": false,
    "deletable": true,
    "editable": true
   },
   "outputs": [
    {
     "name": "stdout",
     "output_type": "stream",
     "text": [
      "<class 'pandas.core.frame.DataFrame'>\n",
      "Int64Index: 240760 entries, 0 to 240759\n",
      "Data columns (total 7 columns):\n",
      "id                     240760 non-null int64\n",
      "product_title          240760 non-null object\n",
      "product_uid            240760 non-null int64\n",
      "relevance              74067 non-null float64\n",
      "search_term            240760 non-null object\n",
      "product_description    240760 non-null object\n",
      "product_attributes     240760 non-null object\n",
      "dtypes: float64(1), int64(2), object(4)\n",
      "memory usage: 14.7+ MB\n"
     ]
    }
   ],
   "source": [
    "df_all.info()"
   ]
  },
  {
   "cell_type": "markdown",
   "metadata": {
    "deletable": true,
    "editable": true
   },
   "source": [
    "### 3.2 Text Cleaning"
   ]
  },
  {
   "cell_type": "markdown",
   "metadata": {
    "deletable": true,
    "editable": true
   },
   "source": [
    "The following steps were performed for text cleaning:<br> \n",
    "    1. Remove meaning symbols and synonyms substitution \n",
    "        Symbols such as \"(\", \")\",\",\" were removed as they do not bring information for search. \n",
    "        Words like \"one\", \"two\" were mapped back to corresponding numbers \"1\", \"2\", etc.\n",
    "    2. Word lemmatization\n",
    "        Lemmatization was performed to group together the inflected forms of a word so they can be analysed as a\n",
    "        single item, identified by the word's lemma, or dictionary form. So words with the same lemma could be \n",
    "        grouped and analyzed together, which is helpful in similar search detection.\n",
    "        \n",
    "        Stemmer had also been tried here, while as it does not deal with different inflectional forms of a lemma,\n",
    "        lemmatization should be more powerful. \n",
    "    3. Remove stop words\n",
    "        Stop words are meaningless in semantics, and it is useless in out relevance analysis, so they were removed."
   ]
  },
  {
   "cell_type": "code",
   "execution_count": 23,
   "metadata": {
    "collapsed": true
   },
   "outputs": [],
   "source": [
    "from nltk.corpus import stopwords\n",
    "stop = stopwords.words('english')"
   ]
  },
  {
   "cell_type": "code",
   "execution_count": 25,
   "metadata": {
    "collapsed": false
   },
   "outputs": [],
   "source": [
    "import nltk\n",
    "from nltk.stem.wordnet import WordNetLemmatizer\n",
    "lmtzr = WordNetLemmatizer()\n"
   ]
  },
  {
   "cell_type": "code",
   "execution_count": 26,
   "metadata": {
    "collapsed": true,
    "deletable": true,
    "editable": true
   },
   "outputs": [],
   "source": [
    "#text cleaning for \"product_title\", \"product_description\", and \"search_term\"\n",
    "def pre_word(line):\n",
    "    line = line.lower()\n",
    "    line = line.replace(\"  \",\" \")\n",
    "    line = line.replace(\",\",\"\") #transfer format like 10,000 to 10000\n",
    "    line = line.replace(\"one\",\"1\")\n",
    "    line = line.replace(\"two\",\"2\")\n",
    "    line = line.replace(\"three\",\"3\")\n",
    "    line = line.replace(\"four\",\"4\")\n",
    "    line = line.replace(\"five\",\"5\")\n",
    "    line = line.replace(\"six\",\"6\")\n",
    "    line = line.replace(\"seven\",\"7\")\n",
    "    line = line.replace(\"eight\",\"8\")\n",
    "    line = line.replace(\"nine\",\"9\")\n",
    "    line = line.replace(\"zero\",\"0\")\n",
    "    line = line.replace(\"(\",\"\")\n",
    "    line = line.replace(\")\",\"\")\n",
    "    \n",
    "    words = line.split(\" \")\n",
    "    newWords=[]\n",
    "    for word in words:\n",
    "        word2 = lmtzr.lemmatize(word)\n",
    "        if word2 not in stop:\n",
    "            newWords.append(word2)\n",
    "        #newWords.append(stemmer.stem(word))\n",
    "    return \" \".join(newWords)"
   ]
  },
  {
   "cell_type": "code",
   "execution_count": 27,
   "metadata": {
    "collapsed": false,
    "deletable": true,
    "editable": true
   },
   "outputs": [
    {
     "name": "stdout",
     "output_type": "stream",
     "text": [
      "[nltk_data] Downloading package wordnet to /home/jingzhip/nltk_data...\n",
      "[nltk_data]   Package wordnet is already up-to-date!\n"
     ]
    },
    {
     "data": {
      "text/plain": [
       "True"
      ]
     },
     "execution_count": 27,
     "metadata": {},
     "output_type": "execute_result"
    }
   ],
   "source": [
    "nltk.download(\"wordnet\")"
   ]
  },
  {
   "cell_type": "code",
   "execution_count": 36,
   "metadata": {
    "collapsed": false,
    "deletable": true,
    "editable": true
   },
   "outputs": [],
   "source": [
    "#\"product_attributes\" need to be decoded with utf-8 and ignore unnormal values, so a new stem_word function was used\n",
    "def pre_word2(line):\n",
    "    line = line.lower()\n",
    "    line = line.replace(\"  \",\" \")\n",
    "    line = line.replace(\",\",\"\") #transfer format like 10,000 to 10000\n",
    "    line = line.replace(\"one\",\"1\")\n",
    "    line = line.replace(\"two\",\"2\")\n",
    "    line = line.replace(\"three\",\"3\")\n",
    "    line = line.replace(\"four\",\"4\")\n",
    "    line = line.replace(\"five\",\"5\")\n",
    "    line = line.replace(\"six\",\"6\")\n",
    "    line = line.replace(\"seven\",\"7\")\n",
    "    line = line.replace(\"eight\",\"8\")\n",
    "    line = line.replace(\"nine\",\"9\")\n",
    "    line = line.replace(\"zero\",\"0\")\n",
    "    line = line.replace(\"(\",\"\")\n",
    "    line = line.replace(\")\",\"\")\n",
    "\n",
    "\n",
    "    words = line.split(\" \")\n",
    "    newWords=[]\n",
    "    for word in words:\n",
    "        word2 = lmtzr.lemmatize(word.decode('utf-8','ignore'))\n",
    "        if word2 not in stop:\n",
    "            newWords.append(word2)\n",
    "    return \" \".join(newWords)"
   ]
  },
  {
   "cell_type": "code",
   "execution_count": 42,
   "metadata": {
    "collapsed": false
   },
   "outputs": [],
   "source": [
    "df_all[\"product_title\"] = df_all[\"product_title\"].apply(pre_word)"
   ]
  },
  {
   "cell_type": "code",
   "execution_count": 43,
   "metadata": {
    "collapsed": true
   },
   "outputs": [],
   "source": [
    "df_all[\"product_description\"] = df_all[\"product_description\"].apply(pre_word)"
   ]
  },
  {
   "cell_type": "code",
   "execution_count": 44,
   "metadata": {
    "collapsed": true
   },
   "outputs": [],
   "source": [
    "df_all[\"search_term\"] = df_all[\"search_term\"].apply(pre_word)"
   ]
  },
  {
   "cell_type": "code",
   "execution_count": 45,
   "metadata": {
    "collapsed": false
   },
   "outputs": [],
   "source": [
    "df_all[\"product_attributes\"] = df_all[\"product_attributes\"].apply(pre_word2)"
   ]
  },
  {
   "cell_type": "markdown",
   "metadata": {
    "deletable": true,
    "editable": true
   },
   "source": [
    "# 4. Feature Engineering"
   ]
  },
  {
   "cell_type": "markdown",
   "metadata": {
    "deletable": true,
    "editable": true
   },
   "source": [
    "Based on the product exploration of training and test set, I don't think word2vec or one-hot vector is a good choice for this dataset. One reason is that there are many new features haven't showed up in training set, so the feature space is incomplete, which brings unaviodable error; the other reason is, as the dataset is very large, there could be a huge number of features if we use word2vec, which significant slows the process of model building.\n",
    "\n",
    "Intuitively, the relevance is most related to the similarity between search term and product itself, so creating features that describe the similarity between search term and the product should be helpful. \n",
    "\n",
    "I used two different ways could be used to describe the similarity between search term and profuct information. "
   ]
  },
  {
   "cell_type": "markdown",
   "metadata": {},
   "source": [
    "### 4.1 First Strategy\n",
    "\n",
    "The first strategy is intuitive. I created number of common words as features, which is the number of the same word that shows up in both search term and product information. The more common words they shared, the more relevent they should be. A meaningful feature would be the ratio of words that shared between search query and other text attributes of the product."
   ]
  },
  {
   "cell_type": "code",
   "execution_count": 46,
   "metadata": {
    "collapsed": true,
    "deletable": true,
    "editable": true
   },
   "outputs": [],
   "source": [
    "#return number of common words in c1 and c2\n",
    "def common_words(c1, c2):\n",
    "    result=[]\n",
    "    for term, title in zip(c1, c2):\n",
    "        term_list = term.split(\" \")\n",
    "        title_list = title.split(\" \")\n",
    "        result.append(sum(int(i in title_list) for i in term_list))\n",
    "    return result"
   ]
  },
  {
   "cell_type": "code",
   "execution_count": 47,
   "metadata": {
    "collapsed": false,
    "deletable": true,
    "editable": true
   },
   "outputs": [],
   "source": [
    "#calculate number of common words between search term and title, description, attributes \n",
    "search_term = df_all[\"search_term\"]\n",
    "product_title = df_all[\"product_title\"]\n",
    "product_description = df_all[\"product_description\"]\n",
    "product_attributes = df_all[\"product_attributes\"]"
   ]
  },
  {
   "cell_type": "code",
   "execution_count": 49,
   "metadata": {
    "collapsed": false,
    "deletable": true,
    "editable": true
   },
   "outputs": [],
   "source": [
    "common_search_title = common_words(search_term, product_title)\n",
    "common_search_description = common_words(search_term, product_description)\n",
    "common_search_attributes = common_words(search_term, product_attributes)"
   ]
  },
  {
   "cell_type": "code",
   "execution_count": 50,
   "metadata": {
    "collapsed": false,
    "deletable": true,
    "editable": true
   },
   "outputs": [],
   "source": [
    "df_all[\"common_search_title\"] = common_search_title\n",
    "df_all[\"common_search_description\"] = common_search_description\n",
    "df_all[\"common_search_attributes\"] = common_search_attributes"
   ]
  },
  {
   "cell_type": "code",
   "execution_count": 51,
   "metadata": {
    "collapsed": true,
    "deletable": true,
    "editable": true
   },
   "outputs": [],
   "source": [
    "#length of search term\n",
    "df_all[\"len_search_term\"] = [ len(term.split(\" \")) for term in search_term]"
   ]
  },
  {
   "cell_type": "code",
   "execution_count": 53,
   "metadata": {
    "collapsed": true
   },
   "outputs": [],
   "source": [
    "#the ratio of words in search term that hit product title\n",
    "df_all['ratio_search_title'] = df_all[\"common_search_title\"] / df_all[\"len_search_term\"]"
   ]
  },
  {
   "cell_type": "code",
   "execution_count": 54,
   "metadata": {
    "collapsed": false
   },
   "outputs": [],
   "source": [
    "#the ratio of words in search term that hit product discription\n",
    "df_all['ratio_search_description'] = df_all[\"common_search_description\"] / df_all[\"len_search_term\"]"
   ]
  },
  {
   "cell_type": "code",
   "execution_count": 55,
   "metadata": {
    "collapsed": true
   },
   "outputs": [],
   "source": [
    "#the ratio of words in search term that hit product attributes\n",
    "df_all['ratio_search_attri'] = df_all[\"common_search_attributes\"] / df_all[\"len_search_term\"]"
   ]
  },
  {
   "cell_type": "markdown",
   "metadata": {},
   "source": [
    "### 4.2 Second Strategy\n",
    "The second strategy is to describe the similarity between search term and product information with cosine similarity. We need to first transform the text to tfidf vectors and then calculate cosine similarity between the search term and each product information. "
   ]
  },
  {
   "cell_type": "code",
   "execution_count": 56,
   "metadata": {
    "collapsed": true
   },
   "outputs": [],
   "source": [
    "from sklearn.feature_extraction.text import TfidfVectorizer\n",
    "from sklearn.metrics.pairwise import cosine_similarity  "
   ]
  },
  {
   "cell_type": "code",
   "execution_count": 57,
   "metadata": {
    "collapsed": true
   },
   "outputs": [],
   "source": [
    "#return cosine similarity between search_term(c1) and title(c2)\n",
    "def cal_cosine(c1, c2):\n",
    "    result=[]\n",
    "    for term, title in zip(c1, c2):\n",
    "        corpus = [term, title]\n",
    "        tfidf_vectorizer = TfidfVectorizer()\n",
    "        tfidf_matrix = tfidf_vectorizer.fit_transform(corpus)\n",
    "        cosine = cosine_similarity(tfidf_matrix[-1], tfidf_matrix[0])\n",
    "        result.append(cosine[0][0])\n",
    "    return result"
   ]
  },
  {
   "cell_type": "code",
   "execution_count": 58,
   "metadata": {
    "collapsed": false
   },
   "outputs": [],
   "source": [
    "#calculate the cosine similarity between search term and product title \n",
    "df_all['cos_search_title'] = cal_cosine(df_all[\"search_term\"], df_all[\"product_title\"])\n",
    "#calculate the cosine similarity between search term and product description\n",
    "df_all['cos_search_description'] = cal_cosine(df_all[\"search_term\"], df_all[\"product_description\"])"
   ]
  },
  {
   "cell_type": "code",
   "execution_count": 59,
   "metadata": {
    "collapsed": false
   },
   "outputs": [
    {
     "data": {
      "text/html": [
       "<div>\n",
       "<table border=\"1\" class=\"dataframe\">\n",
       "  <thead>\n",
       "    <tr style=\"text-align: right;\">\n",
       "      <th></th>\n",
       "      <th>id</th>\n",
       "      <th>product_title</th>\n",
       "      <th>product_uid</th>\n",
       "      <th>relevance</th>\n",
       "      <th>search_term</th>\n",
       "      <th>product_description</th>\n",
       "      <th>product_attributes</th>\n",
       "      <th>common_search_title</th>\n",
       "      <th>common_search_description</th>\n",
       "      <th>common_search_attributes</th>\n",
       "      <th>len_search_term</th>\n",
       "      <th>ratio_search_title</th>\n",
       "      <th>ratio_search_description</th>\n",
       "      <th>ratio_search_attri</th>\n",
       "      <th>cos_search_title</th>\n",
       "      <th>cos_search_description</th>\n",
       "    </tr>\n",
       "  </thead>\n",
       "  <tbody>\n",
       "    <tr>\n",
       "      <th>0</th>\n",
       "      <td>2</td>\n",
       "      <td>simpson strong-tie 12-gauge angle</td>\n",
       "      <td>100001</td>\n",
       "      <td>3.00</td>\n",
       "      <td>angle bracket</td>\n",
       "      <td>angle make joint stronger also provide consist...</td>\n",
       "      <td>versatile connector various 90° connection hom...</td>\n",
       "      <td>1</td>\n",
       "      <td>1</td>\n",
       "      <td>0</td>\n",
       "      <td>2</td>\n",
       "      <td>0.500000</td>\n",
       "      <td>0.500000</td>\n",
       "      <td>0.000000</td>\n",
       "      <td>0.175786</td>\n",
       "      <td>0.074682</td>\n",
       "    </tr>\n",
       "    <tr>\n",
       "      <th>1</th>\n",
       "      <td>3</td>\n",
       "      <td>simpson strong-tie 12-gauge angle</td>\n",
       "      <td>100001</td>\n",
       "      <td>2.50</td>\n",
       "      <td>l bracket</td>\n",
       "      <td>angle make joint stronger also provide consist...</td>\n",
       "      <td>versatile connector various 90° connection hom...</td>\n",
       "      <td>0</td>\n",
       "      <td>0</td>\n",
       "      <td>0</td>\n",
       "      <td>2</td>\n",
       "      <td>0.000000</td>\n",
       "      <td>0.000000</td>\n",
       "      <td>0.000000</td>\n",
       "      <td>0.000000</td>\n",
       "      <td>0.000000</td>\n",
       "    </tr>\n",
       "    <tr>\n",
       "      <th>2</th>\n",
       "      <td>9</td>\n",
       "      <td>behr premium textured deckover 1-gal. #sc-141 ...</td>\n",
       "      <td>100002</td>\n",
       "      <td>3.00</td>\n",
       "      <td>deck</td>\n",
       "      <td>behr premium textured deckover innovative soli...</td>\n",
       "      <td>brushrollerspray 6.63 7.76 6.63 revives wood c...</td>\n",
       "      <td>0</td>\n",
       "      <td>1</td>\n",
       "      <td>1</td>\n",
       "      <td>1</td>\n",
       "      <td>0.000000</td>\n",
       "      <td>1.000000</td>\n",
       "      <td>1.000000</td>\n",
       "      <td>0.000000</td>\n",
       "      <td>0.164410</td>\n",
       "    </tr>\n",
       "    <tr>\n",
       "      <th>3</th>\n",
       "      <td>16</td>\n",
       "      <td>delta vero 1-handle shower faucet trim kit chr...</td>\n",
       "      <td>100005</td>\n",
       "      <td>2.33</td>\n",
       "      <td>rain shower head</td>\n",
       "      <td>update bathroom delta vero single-handle showe...</td>\n",
       "      <td>combo tub shower includes trim kit rough-in ki...</td>\n",
       "      <td>1</td>\n",
       "      <td>1</td>\n",
       "      <td>2</td>\n",
       "      <td>3</td>\n",
       "      <td>0.333333</td>\n",
       "      <td>0.333333</td>\n",
       "      <td>0.666667</td>\n",
       "      <td>0.103716</td>\n",
       "      <td>0.034786</td>\n",
       "    </tr>\n",
       "    <tr>\n",
       "      <th>4</th>\n",
       "      <td>17</td>\n",
       "      <td>delta vero 1-handle shower faucet trim kit chr...</td>\n",
       "      <td>100005</td>\n",
       "      <td>2.67</td>\n",
       "      <td>shower faucet</td>\n",
       "      <td>update bathroom delta vero single-handle showe...</td>\n",
       "      <td>combo tub shower includes trim kit rough-in ki...</td>\n",
       "      <td>2</td>\n",
       "      <td>2</td>\n",
       "      <td>2</td>\n",
       "      <td>2</td>\n",
       "      <td>1.000000</td>\n",
       "      <td>1.000000</td>\n",
       "      <td>1.000000</td>\n",
       "      <td>0.335176</td>\n",
       "      <td>0.109780</td>\n",
       "    </tr>\n",
       "    <tr>\n",
       "      <th>5</th>\n",
       "      <td>18</td>\n",
       "      <td>whirlpool 1.9 cu. ft. range convection microwa...</td>\n",
       "      <td>100006</td>\n",
       "      <td>3.00</td>\n",
       "      <td>convection otr</td>\n",
       "      <td>achieving delicious result almost effortless w...</td>\n",
       "      <td>range microwave 18.5 17.13 29.94 spacious 1.9 ...</td>\n",
       "      <td>1</td>\n",
       "      <td>1</td>\n",
       "      <td>1</td>\n",
       "      <td>2</td>\n",
       "      <td>0.500000</td>\n",
       "      <td>0.500000</td>\n",
       "      <td>0.500000</td>\n",
       "      <td>0.133785</td>\n",
       "      <td>0.056757</td>\n",
       "    </tr>\n",
       "    <tr>\n",
       "      <th>6</th>\n",
       "      <td>20</td>\n",
       "      <td>whirlpool 1.9 cu. ft. range convection microwa...</td>\n",
       "      <td>100006</td>\n",
       "      <td>2.67</td>\n",
       "      <td>microwave stove</td>\n",
       "      <td>achieving delicious result almost effortless w...</td>\n",
       "      <td>range microwave 18.5 17.13 29.94 spacious 1.9 ...</td>\n",
       "      <td>1</td>\n",
       "      <td>1</td>\n",
       "      <td>1</td>\n",
       "      <td>2</td>\n",
       "      <td>0.500000</td>\n",
       "      <td>0.500000</td>\n",
       "      <td>0.500000</td>\n",
       "      <td>0.133785</td>\n",
       "      <td>0.056757</td>\n",
       "    </tr>\n",
       "    <tr>\n",
       "      <th>7</th>\n",
       "      <td>21</td>\n",
       "      <td>whirlpool 1.9 cu. ft. range convection microwa...</td>\n",
       "      <td>100006</td>\n",
       "      <td>3.00</td>\n",
       "      <td>microwave</td>\n",
       "      <td>achieving delicious result almost effortless w...</td>\n",
       "      <td>range microwave 18.5 17.13 29.94 spacious 1.9 ...</td>\n",
       "      <td>1</td>\n",
       "      <td>1</td>\n",
       "      <td>1</td>\n",
       "      <td>1</td>\n",
       "      <td>1.000000</td>\n",
       "      <td>1.000000</td>\n",
       "      <td>1.000000</td>\n",
       "      <td>0.230768</td>\n",
       "      <td>0.097901</td>\n",
       "    </tr>\n",
       "    <tr>\n",
       "      <th>8</th>\n",
       "      <td>23</td>\n",
       "      <td>lithonia lighting quantum 2-light black led em...</td>\n",
       "      <td>100007</td>\n",
       "      <td>2.67</td>\n",
       "      <td>emergency light</td>\n",
       "      <td>quantum adjustable 2-light led black emergency...</td>\n",
       "      <td>ni-cad .built-in led advanced led technology d...</td>\n",
       "      <td>1</td>\n",
       "      <td>2</td>\n",
       "      <td>2</td>\n",
       "      <td>2</td>\n",
       "      <td>0.500000</td>\n",
       "      <td>1.000000</td>\n",
       "      <td>1.000000</td>\n",
       "      <td>0.355477</td>\n",
       "      <td>0.178532</td>\n",
       "    </tr>\n",
       "    <tr>\n",
       "      <th>9</th>\n",
       "      <td>27</td>\n",
       "      <td>house fara 3/4 in. x 3 in. x 8 ft. mdf fluted ...</td>\n",
       "      <td>100009</td>\n",
       "      <td>3.00</td>\n",
       "      <td>mdf 3/4</td>\n",
       "      <td>get house fara 3/4 in. x 3 in. x 8 ft. mdf flu...</td>\n",
       "      <td>door &amp; window made primed mdf painted match de...</td>\n",
       "      <td>2</td>\n",
       "      <td>2</td>\n",
       "      <td>1</td>\n",
       "      <td>2</td>\n",
       "      <td>1.000000</td>\n",
       "      <td>1.000000</td>\n",
       "      <td>0.500000</td>\n",
       "      <td>0.230768</td>\n",
       "      <td>0.085343</td>\n",
       "    </tr>\n",
       "    <tr>\n",
       "      <th>10</th>\n",
       "      <td>34</td>\n",
       "      <td>valley view industry metal stake 4-pack</td>\n",
       "      <td>100010</td>\n",
       "      <td>2.67</td>\n",
       "      <td>steele stake</td>\n",
       "      <td>valley view industry metal stake 4-pack 9 in. ...</td>\n",
       "      <td>used valley view lawn edging brick/ paver edgi...</td>\n",
       "      <td>1</td>\n",
       "      <td>1</td>\n",
       "      <td>1</td>\n",
       "      <td>2</td>\n",
       "      <td>0.500000</td>\n",
       "      <td>0.500000</td>\n",
       "      <td>0.500000</td>\n",
       "      <td>0.175786</td>\n",
       "      <td>0.231323</td>\n",
       "    </tr>\n",
       "    <tr>\n",
       "      <th>11</th>\n",
       "      <td>35</td>\n",
       "      <td>toro personal pace recycler 22 in. variable sp...</td>\n",
       "      <td>100011</td>\n",
       "      <td>3.00</td>\n",
       "      <td>briggs stratton lawn mower</td>\n",
       "      <td>recycler 22 in. personal pace variable speed s...</td>\n",
       "      <td>59 44 23 22 recycler cutting system - front th...</td>\n",
       "      <td>4</td>\n",
       "      <td>4</td>\n",
       "      <td>4</td>\n",
       "      <td>4</td>\n",
       "      <td>1.000000</td>\n",
       "      <td>1.000000</td>\n",
       "      <td>1.000000</td>\n",
       "      <td>0.367116</td>\n",
       "      <td>0.233139</td>\n",
       "    </tr>\n",
       "    <tr>\n",
       "      <th>12</th>\n",
       "      <td>37</td>\n",
       "      <td>toro personal pace recycler 22 in. variable sp...</td>\n",
       "      <td>100011</td>\n",
       "      <td>3.00</td>\n",
       "      <td>gas mowe</td>\n",
       "      <td>recycler 22 in. personal pace variable speed s...</td>\n",
       "      <td>59 44 23 22 recycler cutting system - front th...</td>\n",
       "      <td>1</td>\n",
       "      <td>1</td>\n",
       "      <td>1</td>\n",
       "      <td>2</td>\n",
       "      <td>0.500000</td>\n",
       "      <td>0.500000</td>\n",
       "      <td>0.500000</td>\n",
       "      <td>0.101529</td>\n",
       "      <td>0.023795</td>\n",
       "    </tr>\n",
       "    <tr>\n",
       "      <th>13</th>\n",
       "      <td>38</td>\n",
       "      <td>toro personal pace recycler 22 in. variable sp...</td>\n",
       "      <td>100011</td>\n",
       "      <td>2.00</td>\n",
       "      <td>honda mower</td>\n",
       "      <td>recycler 22 in. personal pace variable speed s...</td>\n",
       "      <td>59 44 23 22 recycler cutting system - front th...</td>\n",
       "      <td>1</td>\n",
       "      <td>1</td>\n",
       "      <td>1</td>\n",
       "      <td>2</td>\n",
       "      <td>0.500000</td>\n",
       "      <td>0.500000</td>\n",
       "      <td>0.500000</td>\n",
       "      <td>0.101529</td>\n",
       "      <td>0.121392</td>\n",
       "    </tr>\n",
       "    <tr>\n",
       "      <th>14</th>\n",
       "      <td>48</td>\n",
       "      <td>hampton bay caramel simple weave bamboo rollup...</td>\n",
       "      <td>100012</td>\n",
       "      <td>2.67</td>\n",
       "      <td>hampton bay chestnut pull shade</td>\n",
       "      <td>96 in. wide caramel simple weave rollup bamboo...</td>\n",
       "      <td>96 96 in. w x 72 in. l actual blind width 96 i...</td>\n",
       "      <td>3</td>\n",
       "      <td>2</td>\n",
       "      <td>4</td>\n",
       "      <td>5</td>\n",
       "      <td>0.600000</td>\n",
       "      <td>0.400000</td>\n",
       "      <td>0.800000</td>\n",
       "      <td>0.228827</td>\n",
       "      <td>0.108705</td>\n",
       "    </tr>\n",
       "    <tr>\n",
       "      <th>15</th>\n",
       "      <td>51</td>\n",
       "      <td>insinkerator sinktop switch single outlet insi...</td>\n",
       "      <td>100013</td>\n",
       "      <td>2.67</td>\n",
       "      <td>disposer</td>\n",
       "      <td>insinkerator sinktop switch single outlet insi...</td>\n",
       "      <td>kit includes satin nickel chrome white finish ...</td>\n",
       "      <td>0</td>\n",
       "      <td>0</td>\n",
       "      <td>0</td>\n",
       "      <td>1</td>\n",
       "      <td>0.000000</td>\n",
       "      <td>0.000000</td>\n",
       "      <td>0.000000</td>\n",
       "      <td>0.000000</td>\n",
       "      <td>0.000000</td>\n",
       "    </tr>\n",
       "    <tr>\n",
       "      <th>16</th>\n",
       "      <td>65</td>\n",
       "      <td>sunjoy calais 8 ft. x 5 ft. x 8 ft. steel tile...</td>\n",
       "      <td>100016</td>\n",
       "      <td>3.00</td>\n",
       "      <td>grill gazebo</td>\n",
       "      <td>make grilling great handsome functional grill ...</td>\n",
       "      <td>8 5 96.45 98.4 60.6 vented canopy built lattic...</td>\n",
       "      <td>2</td>\n",
       "      <td>2</td>\n",
       "      <td>2</td>\n",
       "      <td>2</td>\n",
       "      <td>1.000000</td>\n",
       "      <td>1.000000</td>\n",
       "      <td>1.000000</td>\n",
       "      <td>0.259698</td>\n",
       "      <td>0.590594</td>\n",
       "    </tr>\n",
       "    <tr>\n",
       "      <th>17</th>\n",
       "      <td>69</td>\n",
       "      <td>md building product 36 in. x 36 in. cloverleaf...</td>\n",
       "      <td>100017</td>\n",
       "      <td>1.00</td>\n",
       "      <td>door guard</td>\n",
       "      <td>md building product 36 in. x 36 in. x 1/50 in....</td>\n",
       "      <td>use repair door window screen add stylish acce...</td>\n",
       "      <td>0</td>\n",
       "      <td>1</td>\n",
       "      <td>1</td>\n",
       "      <td>2</td>\n",
       "      <td>0.000000</td>\n",
       "      <td>0.500000</td>\n",
       "      <td>0.500000</td>\n",
       "      <td>0.000000</td>\n",
       "      <td>0.038548</td>\n",
       "    </tr>\n",
       "    <tr>\n",
       "      <th>18</th>\n",
       "      <td>75</td>\n",
       "      <td>md building product 36 in. x 36 in. cloverleaf...</td>\n",
       "      <td>100017</td>\n",
       "      <td>1.67</td>\n",
       "      <td>metal plate cover gcfi</td>\n",
       "      <td>md building product 36 in. x 36 in. x 1/50 in....</td>\n",
       "      <td>use repair door window screen add stylish acce...</td>\n",
       "      <td>0</td>\n",
       "      <td>0</td>\n",
       "      <td>1</td>\n",
       "      <td>4</td>\n",
       "      <td>0.000000</td>\n",
       "      <td>0.000000</td>\n",
       "      <td>0.250000</td>\n",
       "      <td>0.000000</td>\n",
       "      <td>0.000000</td>\n",
       "    </tr>\n",
       "    <tr>\n",
       "      <th>19</th>\n",
       "      <td>81</td>\n",
       "      <td>md building product 36 in. x 36 in. cloverleaf...</td>\n",
       "      <td>100017</td>\n",
       "      <td>2.33</td>\n",
       "      <td>radiator grate</td>\n",
       "      <td>md building product 36 in. x 36 in. x 1/50 in....</td>\n",
       "      <td>use repair door window screen add stylish acce...</td>\n",
       "      <td>0</td>\n",
       "      <td>0</td>\n",
       "      <td>0</td>\n",
       "      <td>2</td>\n",
       "      <td>0.000000</td>\n",
       "      <td>0.000000</td>\n",
       "      <td>0.000000</td>\n",
       "      <td>0.000000</td>\n",
       "      <td>0.000000</td>\n",
       "    </tr>\n",
       "    <tr>\n",
       "      <th>20</th>\n",
       "      <td>85</td>\n",
       "      <td>md building product 36 in. x 36 in. cloverleaf...</td>\n",
       "      <td>100017</td>\n",
       "      <td>2.33</td>\n",
       "      <td>window screen</td>\n",
       "      <td>md building product 36 in. x 36 in. x 1/50 in....</td>\n",
       "      <td>use repair door window screen add stylish acce...</td>\n",
       "      <td>0</td>\n",
       "      <td>2</td>\n",
       "      <td>2</td>\n",
       "      <td>2</td>\n",
       "      <td>0.000000</td>\n",
       "      <td>1.000000</td>\n",
       "      <td>1.000000</td>\n",
       "      <td>0.000000</td>\n",
       "      <td>0.094236</td>\n",
       "    </tr>\n",
       "    <tr>\n",
       "      <th>21</th>\n",
       "      <td>88</td>\n",
       "      <td>house fara 8 linear ft. mdf overlapping wainsc...</td>\n",
       "      <td>100019</td>\n",
       "      <td>1.33</td>\n",
       "      <td>1x1 rail decorative wood</td>\n",
       "      <td>house fara 8 linear ft. primed mdf overlapping...</td>\n",
       "      <td>wall mdf kit includes 1-piece 8 ft. chairrail ...</td>\n",
       "      <td>0</td>\n",
       "      <td>1</td>\n",
       "      <td>1</td>\n",
       "      <td>4</td>\n",
       "      <td>0.000000</td>\n",
       "      <td>0.250000</td>\n",
       "      <td>0.250000</td>\n",
       "      <td>0.000000</td>\n",
       "      <td>0.052762</td>\n",
       "    </tr>\n",
       "    <tr>\n",
       "      <th>22</th>\n",
       "      <td>90</td>\n",
       "      <td>house fara 8 linear ft. mdf overlapping wainsc...</td>\n",
       "      <td>100019</td>\n",
       "      <td>2.67</td>\n",
       "      <td>4*8 beadboard paneling</td>\n",
       "      <td>house fara 8 linear ft. primed mdf overlapping...</td>\n",
       "      <td>wall mdf kit includes 1-piece 8 ft. chairrail ...</td>\n",
       "      <td>1</td>\n",
       "      <td>1</td>\n",
       "      <td>1</td>\n",
       "      <td>3</td>\n",
       "      <td>0.333333</td>\n",
       "      <td>0.333333</td>\n",
       "      <td>0.333333</td>\n",
       "      <td>0.133785</td>\n",
       "      <td>0.080500</td>\n",
       "    </tr>\n",
       "    <tr>\n",
       "      <th>23</th>\n",
       "      <td>92</td>\n",
       "      <td>house fara 8 linear ft. mdf overlapping wainsc...</td>\n",
       "      <td>100019</td>\n",
       "      <td>2.33</td>\n",
       "      <td>4x8wood paneling</td>\n",
       "      <td>house fara 8 linear ft. primed mdf overlapping...</td>\n",
       "      <td>wall mdf kit includes 1-piece 8 ft. chairrail ...</td>\n",
       "      <td>1</td>\n",
       "      <td>1</td>\n",
       "      <td>0</td>\n",
       "      <td>2</td>\n",
       "      <td>0.500000</td>\n",
       "      <td>0.500000</td>\n",
       "      <td>0.000000</td>\n",
       "      <td>0.133785</td>\n",
       "      <td>0.080500</td>\n",
       "    </tr>\n",
       "    <tr>\n",
       "      <th>24</th>\n",
       "      <td>101</td>\n",
       "      <td>house fara 8 linear ft. mdf overlapping wainsc...</td>\n",
       "      <td>100019</td>\n",
       "      <td>1.33</td>\n",
       "      <td>mdf 4x8</td>\n",
       "      <td>house fara 8 linear ft. primed mdf overlapping...</td>\n",
       "      <td>wall mdf kit includes 1-piece 8 ft. chairrail ...</td>\n",
       "      <td>1</td>\n",
       "      <td>1</td>\n",
       "      <td>1</td>\n",
       "      <td>2</td>\n",
       "      <td>0.500000</td>\n",
       "      <td>0.500000</td>\n",
       "      <td>0.500000</td>\n",
       "      <td>0.133785</td>\n",
       "      <td>0.039969</td>\n",
       "    </tr>\n",
       "    <tr>\n",
       "      <th>25</th>\n",
       "      <td>105</td>\n",
       "      <td>house fara 8 linear ft. mdf overlapping wainsc...</td>\n",
       "      <td>100019</td>\n",
       "      <td>2.33</td>\n",
       "      <td>wainscot chair rail</td>\n",
       "      <td>house fara 8 linear ft. primed mdf overlapping...</td>\n",
       "      <td>wall mdf kit includes 1-piece 8 ft. chairrail ...</td>\n",
       "      <td>1</td>\n",
       "      <td>3</td>\n",
       "      <td>3</td>\n",
       "      <td>3</td>\n",
       "      <td>0.333333</td>\n",
       "      <td>1.000000</td>\n",
       "      <td>1.000000</td>\n",
       "      <td>0.103716</td>\n",
       "      <td>0.245160</td>\n",
       "    </tr>\n",
       "    <tr>\n",
       "      <th>26</th>\n",
       "      <td>106</td>\n",
       "      <td>house fara 8 linear ft. mdf overlapping wainsc...</td>\n",
       "      <td>100019</td>\n",
       "      <td>2.33</td>\n",
       "      <td>wainscot plank paneling</td>\n",
       "      <td>house fara 8 linear ft. primed mdf overlapping...</td>\n",
       "      <td>wall mdf kit includes 1-piece 8 ft. chairrail ...</td>\n",
       "      <td>2</td>\n",
       "      <td>2</td>\n",
       "      <td>1</td>\n",
       "      <td>3</td>\n",
       "      <td>0.666667</td>\n",
       "      <td>0.666667</td>\n",
       "      <td>0.333333</td>\n",
       "      <td>0.237739</td>\n",
       "      <td>0.140614</td>\n",
       "    </tr>\n",
       "    <tr>\n",
       "      <th>27</th>\n",
       "      <td>113</td>\n",
       "      <td>1804 dual spray half pattern 4 pop-up spray head</td>\n",
       "      <td>100021</td>\n",
       "      <td>2.00</td>\n",
       "      <td>lawn sprkinler</td>\n",
       "      <td>installed park backyard across globe rain bird...</td>\n",
       "      <td>6 2.25 2.25 spray distance 8 ft. 15 ft. patent...</td>\n",
       "      <td>0</td>\n",
       "      <td>1</td>\n",
       "      <td>0</td>\n",
       "      <td>2</td>\n",
       "      <td>0.000000</td>\n",
       "      <td>0.500000</td>\n",
       "      <td>0.000000</td>\n",
       "      <td>0.000000</td>\n",
       "      <td>0.079293</td>\n",
       "    </tr>\n",
       "    <tr>\n",
       "      <th>28</th>\n",
       "      <td>114</td>\n",
       "      <td>1804 dual spray half pattern 4 pop-up spray head</td>\n",
       "      <td>100021</td>\n",
       "      <td>2.33</td>\n",
       "      <td>rainbird sprinkler</td>\n",
       "      <td>installed park backyard across globe rain bird...</td>\n",
       "      <td>6 2.25 2.25 spray distance 8 ft. 15 ft. patent...</td>\n",
       "      <td>0</td>\n",
       "      <td>1</td>\n",
       "      <td>1</td>\n",
       "      <td>2</td>\n",
       "      <td>0.000000</td>\n",
       "      <td>0.500000</td>\n",
       "      <td>0.500000</td>\n",
       "      <td>0.000000</td>\n",
       "      <td>0.052596</td>\n",
       "    </tr>\n",
       "    <tr>\n",
       "      <th>29</th>\n",
       "      <td>117</td>\n",
       "      <td>samsung 4.2 cu. ft. front load washer steam wh...</td>\n",
       "      <td>100022</td>\n",
       "      <td>2.67</td>\n",
       "      <td>platform washer</td>\n",
       "      <td>samsung 4.2 cu. ft. front load washer steam wh...</td>\n",
       "      <td>15 front load washer 33 38.7 27 4.2 cu. ft. do...</td>\n",
       "      <td>1</td>\n",
       "      <td>1</td>\n",
       "      <td>1</td>\n",
       "      <td>2</td>\n",
       "      <td>0.500000</td>\n",
       "      <td>0.500000</td>\n",
       "      <td>0.500000</td>\n",
       "      <td>0.133785</td>\n",
       "      <td>0.103038</td>\n",
       "    </tr>\n",
       "    <tr>\n",
       "      <th>...</th>\n",
       "      <td>...</td>\n",
       "      <td>...</td>\n",
       "      <td>...</td>\n",
       "      <td>...</td>\n",
       "      <td>...</td>\n",
       "      <td>...</td>\n",
       "      <td>...</td>\n",
       "      <td>...</td>\n",
       "      <td>...</td>\n",
       "      <td>...</td>\n",
       "      <td>...</td>\n",
       "      <td>...</td>\n",
       "      <td>...</td>\n",
       "      <td>...</td>\n",
       "      <td>...</td>\n",
       "      <td>...</td>\n",
       "    </tr>\n",
       "    <tr>\n",
       "      <th>240730</th>\n",
       "      <td>240731</td>\n",
       "      <td>6-panel composite bifold door</td>\n",
       "      <td>224399</td>\n",
       "      <td>NaN</td>\n",
       "      <td>bifold oak 6 panel door</td>\n",
       "      <td>give home custom look plantation styled bi-fol...</td>\n",
       "      <td>track matching door knob hardware included har...</td>\n",
       "      <td>2</td>\n",
       "      <td>1</td>\n",
       "      <td>4</td>\n",
       "      <td>5</td>\n",
       "      <td>0.400000</td>\n",
       "      <td>0.200000</td>\n",
       "      <td>0.800000</td>\n",
       "      <td>0.602975</td>\n",
       "      <td>0.105700</td>\n",
       "    </tr>\n",
       "    <tr>\n",
       "      <th>240731</th>\n",
       "      <td>240732</td>\n",
       "      <td>eaton csr 200-amp double pole main breaker kit</td>\n",
       "      <td>224400</td>\n",
       "      <td>NaN</td>\n",
       "      <td>200 amp breaker double pole</td>\n",
       "      <td>eaton csr 200-amp double-pole main breaker kit...</td>\n",
       "      <td>use main breaker main breaker meter breaker lo...</td>\n",
       "      <td>3</td>\n",
       "      <td>2</td>\n",
       "      <td>4</td>\n",
       "      <td>5</td>\n",
       "      <td>0.600000</td>\n",
       "      <td>0.400000</td>\n",
       "      <td>0.800000</td>\n",
       "      <td>0.622541</td>\n",
       "      <td>0.317153</td>\n",
       "    </tr>\n",
       "    <tr>\n",
       "      <th>240732</th>\n",
       "      <td>240733</td>\n",
       "      <td>crown bolt 3/16 in. zinc plated steel axle hat...</td>\n",
       "      <td>224401</td>\n",
       "      <td>NaN</td>\n",
       "      <td>axle locking nut</td>\n",
       "      <td>push nut screw thread inward facing flange. fl...</td>\n",
       "      <td>.69 .577 .5 3-pieces per pack steel constructi...</td>\n",
       "      <td>2</td>\n",
       "      <td>1</td>\n",
       "      <td>2</td>\n",
       "      <td>3</td>\n",
       "      <td>0.666667</td>\n",
       "      <td>0.333333</td>\n",
       "      <td>0.666667</td>\n",
       "      <td>0.225555</td>\n",
       "      <td>0.111856</td>\n",
       "    </tr>\n",
       "    <tr>\n",
       "      <th>240733</th>\n",
       "      <td>240734</td>\n",
       "      <td>dicky 2-pocket utility knife sheath</td>\n",
       "      <td>224402</td>\n",
       "      <td>NaN</td>\n",
       "      <td>sheath</td>\n",
       "      <td>dicky utility knife sheath constructed rugged ...</td>\n",
       "      <td>compact design daily use holder lightw8 webbin...</td>\n",
       "      <td>1</td>\n",
       "      <td>1</td>\n",
       "      <td>0</td>\n",
       "      <td>1</td>\n",
       "      <td>1.000000</td>\n",
       "      <td>1.000000</td>\n",
       "      <td>0.000000</td>\n",
       "      <td>0.335176</td>\n",
       "      <td>0.170053</td>\n",
       "    </tr>\n",
       "    <tr>\n",
       "      <th>240734</th>\n",
       "      <td>240735</td>\n",
       "      <td>patio living concept san juan 60 in. outdoor b...</td>\n",
       "      <td>224403</td>\n",
       "      <td>NaN</td>\n",
       "      <td>outdoor patio shade</td>\n",
       "      <td>carefree resin durability adding elegance outd...</td>\n",
       "      <td>beige weatherproof rust weatherproof cord plug...</td>\n",
       "      <td>3</td>\n",
       "      <td>2</td>\n",
       "      <td>2</td>\n",
       "      <td>3</td>\n",
       "      <td>1.000000</td>\n",
       "      <td>0.666667</td>\n",
       "      <td>0.666667</td>\n",
       "      <td>0.348306</td>\n",
       "      <td>0.110112</td>\n",
       "    </tr>\n",
       "    <tr>\n",
       "      <th>240735</th>\n",
       "      <td>240736</td>\n",
       "      <td>speakman emergency eyewash safety sign</td>\n",
       "      <td>224404</td>\n",
       "      <td>NaN</td>\n",
       "      <td>safety sign</td>\n",
       "      <td>speakman branded emergency eyewash safety sign...</td>\n",
       "      <td>includes 2 green plastic zip tie feature unive...</td>\n",
       "      <td>2</td>\n",
       "      <td>2</td>\n",
       "      <td>2</td>\n",
       "      <td>2</td>\n",
       "      <td>1.000000</td>\n",
       "      <td>1.000000</td>\n",
       "      <td>1.000000</td>\n",
       "      <td>0.502329</td>\n",
       "      <td>0.376755</td>\n",
       "    </tr>\n",
       "    <tr>\n",
       "      <th>240736</th>\n",
       "      <td>240737</td>\n",
       "      <td>plantronics cable m12 cs50/cs55 ph1</td>\n",
       "      <td>224405</td>\n",
       "      <td>NaN</td>\n",
       "      <td>ph1 cable</td>\n",
       "      <td>pl-65111-01 plantronics ph1 accessory item. un...</td>\n",
       "      <td>vista stub 500 mm 1 year warranty black color ...</td>\n",
       "      <td>2</td>\n",
       "      <td>2</td>\n",
       "      <td>0</td>\n",
       "      <td>2</td>\n",
       "      <td>1.000000</td>\n",
       "      <td>1.000000</td>\n",
       "      <td>0.000000</td>\n",
       "      <td>0.449436</td>\n",
       "      <td>0.190116</td>\n",
       "    </tr>\n",
       "    <tr>\n",
       "      <th>240737</th>\n",
       "      <td>240738</td>\n",
       "      <td>glomar vanguard 9-light textured black chandel...</td>\n",
       "      <td>224406</td>\n",
       "      <td>NaN</td>\n",
       "      <td>vanguard</td>\n",
       "      <td>1940's back hint today. available flemish gold...</td>\n",
       "      <td>yes incandescentno bulb included textured blac...</td>\n",
       "      <td>1</td>\n",
       "      <td>1</td>\n",
       "      <td>0</td>\n",
       "      <td>1</td>\n",
       "      <td>1.000000</td>\n",
       "      <td>1.000000</td>\n",
       "      <td>0.000000</td>\n",
       "      <td>0.243956</td>\n",
       "      <td>0.093021</td>\n",
       "    </tr>\n",
       "    <tr>\n",
       "      <th>240738</th>\n",
       "      <td>240739</td>\n",
       "      <td>kwikset milan satin nickel half-dummy lever</td>\n",
       "      <td>224407</td>\n",
       "      <td>NaN</td>\n",
       "      <td>dummy handle</td>\n",
       "      <td>step designer style superior security kwikset ...</td>\n",
       "      <td>dummy 2.5625 2.625 4.15625 designer style supe...</td>\n",
       "      <td>0</td>\n",
       "      <td>0</td>\n",
       "      <td>1</td>\n",
       "      <td>2</td>\n",
       "      <td>0.000000</td>\n",
       "      <td>0.000000</td>\n",
       "      <td>0.500000</td>\n",
       "      <td>0.161714</td>\n",
       "      <td>0.033963</td>\n",
       "    </tr>\n",
       "    <tr>\n",
       "      <th>240739</th>\n",
       "      <td>240740</td>\n",
       "      <td>advanced drainage system 1/2 in. x 100 ft. ip ...</td>\n",
       "      <td>224408</td>\n",
       "      <td>NaN</td>\n",
       "      <td>advanced drainage system</td>\n",
       "      <td>1/2 in. x 100 ft. ip 125 psi nsf poly pipe eas...</td>\n",
       "      <td>0.622 0.682 flexible construction installs eas...</td>\n",
       "      <td>3</td>\n",
       "      <td>0</td>\n",
       "      <td>3</td>\n",
       "      <td>3</td>\n",
       "      <td>1.000000</td>\n",
       "      <td>0.000000</td>\n",
       "      <td>1.000000</td>\n",
       "      <td>0.379978</td>\n",
       "      <td>0.000000</td>\n",
       "    </tr>\n",
       "    <tr>\n",
       "      <th>240740</th>\n",
       "      <td>240741</td>\n",
       "      <td>magnavox 50 in. class led 1080p 120 bmr slim hdtv</td>\n",
       "      <td>224409</td>\n",
       "      <td>NaN</td>\n",
       "      <td>led tv</td>\n",
       "      <td>enjoy optimal viewing area magnavox 50 in. 108...</td>\n",
       "      <td>spectacular picture full hd 1080p resolution b...</td>\n",
       "      <td>1</td>\n",
       "      <td>2</td>\n",
       "      <td>1</td>\n",
       "      <td>2</td>\n",
       "      <td>0.500000</td>\n",
       "      <td>1.000000</td>\n",
       "      <td>0.500000</td>\n",
       "      <td>0.133785</td>\n",
       "      <td>0.081081</td>\n",
       "    </tr>\n",
       "    <tr>\n",
       "      <th>240741</th>\n",
       "      <td>240742</td>\n",
       "      <td>ekena millwork 7 in. x 3/4 in. x 11 in. hillsb...</td>\n",
       "      <td>224410</td>\n",
       "      <td>NaN</td>\n",
       "      <td>l molding</td>\n",
       "      <td>beautiful crown moulding great way separate de...</td>\n",
       "      <td>wall trim chair rail modeled original historic...</td>\n",
       "      <td>0</td>\n",
       "      <td>0</td>\n",
       "      <td>0</td>\n",
       "      <td>2</td>\n",
       "      <td>0.000000</td>\n",
       "      <td>0.000000</td>\n",
       "      <td>0.000000</td>\n",
       "      <td>0.000000</td>\n",
       "      <td>0.000000</td>\n",
       "    </tr>\n",
       "    <tr>\n",
       "      <th>240742</th>\n",
       "      <td>240743</td>\n",
       "      <td>minwax 1 gal. semi-gloss polycrylic protective...</td>\n",
       "      <td>224411</td>\n",
       "      <td>NaN</td>\n",
       "      <td>minwax polycrylic</td>\n",
       "      <td>minwax polycrylic protective finish protective...</td>\n",
       "      <td>brush crystal clear finish ideal use light woo...</td>\n",
       "      <td>2</td>\n",
       "      <td>2</td>\n",
       "      <td>1</td>\n",
       "      <td>2</td>\n",
       "      <td>1.000000</td>\n",
       "      <td>1.000000</td>\n",
       "      <td>0.500000</td>\n",
       "      <td>0.410363</td>\n",
       "      <td>0.235638</td>\n",
       "    </tr>\n",
       "    <tr>\n",
       "      <th>240743</th>\n",
       "      <td>240744</td>\n",
       "      <td>southern living plant collection 3 gal. pink s...</td>\n",
       "      <td>224412</td>\n",
       "      <td>NaN</td>\n",
       "      <td>camellia</td>\n",
       "      <td>pink stella camellia southern living plant col...</td>\n",
       "      <td>evergreenhummingbird/butterfly attractant pere...</td>\n",
       "      <td>1</td>\n",
       "      <td>1</td>\n",
       "      <td>1</td>\n",
       "      <td>1</td>\n",
       "      <td>1.000000</td>\n",
       "      <td>1.000000</td>\n",
       "      <td>1.000000</td>\n",
       "      <td>0.259698</td>\n",
       "      <td>0.155241</td>\n",
       "    </tr>\n",
       "    <tr>\n",
       "      <th>240744</th>\n",
       "      <td>240745</td>\n",
       "      <td>ge 5.0 cu. ft. gas range self-cleaning oven black</td>\n",
       "      <td>224413</td>\n",
       "      <td>NaN</td>\n",
       "      <td>black gas range</td>\n",
       "      <td>ge 30 in. 5.0 cu. ft. gas range self-cleaning ...</td>\n",
       "      <td>gas range 12500 oven 5.0 cu. ft. oven allow co...</td>\n",
       "      <td>3</td>\n",
       "      <td>3</td>\n",
       "      <td>3</td>\n",
       "      <td>3</td>\n",
       "      <td>1.000000</td>\n",
       "      <td>1.000000</td>\n",
       "      <td>1.000000</td>\n",
       "      <td>0.449436</td>\n",
       "      <td>0.124953</td>\n",
       "    </tr>\n",
       "    <tr>\n",
       "      <th>240745</th>\n",
       "      <td>240746</td>\n",
       "      <td>southwire 150 ft. 12-3 cu w/g submersible pump...</td>\n",
       "      <td>224414</td>\n",
       "      <td>NaN</td>\n",
       "      <td>submersible wire</td>\n",
       "      <td>southwires submersible pump cable used submers...</td>\n",
       "      <td>20 insulation tough heat moisture resistant pv...</td>\n",
       "      <td>1</td>\n",
       "      <td>1</td>\n",
       "      <td>0</td>\n",
       "      <td>2</td>\n",
       "      <td>0.500000</td>\n",
       "      <td>0.500000</td>\n",
       "      <td>0.000000</td>\n",
       "      <td>0.150557</td>\n",
       "      <td>0.117824</td>\n",
       "    </tr>\n",
       "    <tr>\n",
       "      <th>240746</th>\n",
       "      <td>240747</td>\n",
       "      <td>generac protector series 15000-watt 120/240-vo...</td>\n",
       "      <td>224415</td>\n",
       "      <td>NaN</td>\n",
       "      <td>32kw generac protector series</td>\n",
       "      <td>generacs new protector series diesel generator...</td>\n",
       "      <td>evolution controller next generation intuitive...</td>\n",
       "      <td>3</td>\n",
       "      <td>3</td>\n",
       "      <td>3</td>\n",
       "      <td>4</td>\n",
       "      <td>0.750000</td>\n",
       "      <td>0.750000</td>\n",
       "      <td>0.750000</td>\n",
       "      <td>0.260269</td>\n",
       "      <td>0.197757</td>\n",
       "    </tr>\n",
       "    <tr>\n",
       "      <th>240747</th>\n",
       "      <td>240748</td>\n",
       "      <td>kohler clearflo brass toe tap bath drain vibra...</td>\n",
       "      <td>224416</td>\n",
       "      <td>NaN</td>\n",
       "      <td>bathroom tap</td>\n",
       "      <td>clearflo brass toe-tap bath drain work perfect...</td>\n",
       "      <td>brass piping tee construction durability code ...</td>\n",
       "      <td>1</td>\n",
       "      <td>1</td>\n",
       "      <td>1</td>\n",
       "      <td>2</td>\n",
       "      <td>0.500000</td>\n",
       "      <td>0.500000</td>\n",
       "      <td>0.500000</td>\n",
       "      <td>0.133785</td>\n",
       "      <td>0.112961</td>\n",
       "    </tr>\n",
       "    <tr>\n",
       "      <th>240748</th>\n",
       "      <td>240749</td>\n",
       "      <td>casablanca 4-light maiden bronze ceiling fan f...</td>\n",
       "      <td>224417</td>\n",
       "      <td>NaN</td>\n",
       "      <td>ceiling fan light fixture</td>\n",
       "      <td>light kit casablanca great design sure complem...</td>\n",
       "      <td>incandescent incandescent 40-watt bulb include...</td>\n",
       "      <td>3</td>\n",
       "      <td>3</td>\n",
       "      <td>3</td>\n",
       "      <td>4</td>\n",
       "      <td>0.750000</td>\n",
       "      <td>0.750000</td>\n",
       "      <td>0.750000</td>\n",
       "      <td>0.502329</td>\n",
       "      <td>0.391696</td>\n",
       "    </tr>\n",
       "    <tr>\n",
       "      <th>240749</th>\n",
       "      <td>240750</td>\n",
       "      <td>glidden premium 5-gal. #hdgr19 fresh peony sat...</td>\n",
       "      <td>224418</td>\n",
       "      <td>NaN</td>\n",
       "      <td>peony</td>\n",
       "      <td>glidden premium 5-gal. satin latex exterior pa...</td>\n",
       "      <td></td>\n",
       "      <td>1</td>\n",
       "      <td>0</td>\n",
       "      <td>0</td>\n",
       "      <td>1</td>\n",
       "      <td>1.000000</td>\n",
       "      <td>0.000000</td>\n",
       "      <td>0.000000</td>\n",
       "      <td>0.230768</td>\n",
       "      <td>0.000000</td>\n",
       "    </tr>\n",
       "    <tr>\n",
       "      <th>240750</th>\n",
       "      <td>240751</td>\n",
       "      <td>everbilt 1/8 in. x 50 ft. reflective black par...</td>\n",
       "      <td>224419</td>\n",
       "      <td>NaN</td>\n",
       "      <td>paracord</td>\n",
       "      <td>paracord ideal camping hiking outdoor activiti...</td>\n",
       "      <td>make paracord survival bracelet ensure paracor...</td>\n",
       "      <td>1</td>\n",
       "      <td>1</td>\n",
       "      <td>1</td>\n",
       "      <td>1</td>\n",
       "      <td>1.000000</td>\n",
       "      <td>1.000000</td>\n",
       "      <td>1.000000</td>\n",
       "      <td>0.278943</td>\n",
       "      <td>0.332922</td>\n",
       "    </tr>\n",
       "    <tr>\n",
       "      <th>240751</th>\n",
       "      <td>240752</td>\n",
       "      <td>crown bolt 5/16 in. 1/4 in.-20 x 1-1/2 in. all...</td>\n",
       "      <td>224420</td>\n",
       "      <td>NaN</td>\n",
       "      <td>2 inch 1/4-20 bolt</td>\n",
       "      <td>crown bolt's shoulder bolt also known stripper...</td>\n",
       "      <td>0.15 4.25 2 1-piece per bag steel construction...</td>\n",
       "      <td>1</td>\n",
       "      <td>1</td>\n",
       "      <td>2</td>\n",
       "      <td>4</td>\n",
       "      <td>0.250000</td>\n",
       "      <td>0.250000</td>\n",
       "      <td>0.500000</td>\n",
       "      <td>0.271651</td>\n",
       "      <td>0.140316</td>\n",
       "    </tr>\n",
       "    <tr>\n",
       "      <th>240752</th>\n",
       "      <td>240753</td>\n",
       "      <td>universal tub 4.5 ft. right drain wheel chair ...</td>\n",
       "      <td>224421</td>\n",
       "      <td>NaN</td>\n",
       "      <td>bath chair</td>\n",
       "      <td>wheel chair accessible's provide safe independ...</td>\n",
       "      <td>yes yes speak bathtub specialist simply call 1...</td>\n",
       "      <td>2</td>\n",
       "      <td>1</td>\n",
       "      <td>0</td>\n",
       "      <td>2</td>\n",
       "      <td>1.000000</td>\n",
       "      <td>0.500000</td>\n",
       "      <td>0.000000</td>\n",
       "      <td>0.268805</td>\n",
       "      <td>0.077713</td>\n",
       "    </tr>\n",
       "    <tr>\n",
       "      <th>240753</th>\n",
       "      <td>240754</td>\n",
       "      <td>everbilt #12 x 1-1/2 in. phillips brass flat-h...</td>\n",
       "      <td>224422</td>\n",
       "      <td>NaN</td>\n",
       "      <td>1/2 brass</td>\n",
       "      <td>wood screw thread forming screw larger thread ...</td>\n",
       "      <td>0.44 1.5 0.44 2 piece per pack brass construct...</td>\n",
       "      <td>1</td>\n",
       "      <td>0</td>\n",
       "      <td>1</td>\n",
       "      <td>2</td>\n",
       "      <td>0.500000</td>\n",
       "      <td>0.000000</td>\n",
       "      <td>0.500000</td>\n",
       "      <td>0.219511</td>\n",
       "      <td>0.000000</td>\n",
       "    </tr>\n",
       "    <tr>\n",
       "      <th>240754</th>\n",
       "      <td>240755</td>\n",
       "      <td>coastal shower door legend series 24 in. x 64 ...</td>\n",
       "      <td>224423</td>\n",
       "      <td>NaN</td>\n",
       "      <td>pivot shower door</td>\n",
       "      <td>legend series framed swing stand-al1 continuou...</td>\n",
       "      <td>adjusts fit shower opening minimum width dimen...</td>\n",
       "      <td>2</td>\n",
       "      <td>2</td>\n",
       "      <td>2</td>\n",
       "      <td>3</td>\n",
       "      <td>0.666667</td>\n",
       "      <td>0.666667</td>\n",
       "      <td>0.666667</td>\n",
       "      <td>0.335981</td>\n",
       "      <td>0.281950</td>\n",
       "    </tr>\n",
       "    <tr>\n",
       "      <th>240755</th>\n",
       "      <td>240756</td>\n",
       "      <td>stufurhome norma 24 in. w x 16 in. x 34 in. h ...</td>\n",
       "      <td>224424</td>\n",
       "      <td>NaN</td>\n",
       "      <td>24 whtie storage cabinet</td>\n",
       "      <td>create neat yet stylish storage space organizi...</td>\n",
       "      <td>solid wood construction side backboard plywood...</td>\n",
       "      <td>3</td>\n",
       "      <td>3</td>\n",
       "      <td>1</td>\n",
       "      <td>4</td>\n",
       "      <td>0.750000</td>\n",
       "      <td>0.750000</td>\n",
       "      <td>0.250000</td>\n",
       "      <td>0.228633</td>\n",
       "      <td>0.132282</td>\n",
       "    </tr>\n",
       "    <tr>\n",
       "      <th>240756</th>\n",
       "      <td>240757</td>\n",
       "      <td>home decorator collection 49 in. alessandro sp...</td>\n",
       "      <td>224425</td>\n",
       "      <td>NaN</td>\n",
       "      <td>adirondeck cusion</td>\n",
       "      <td>bullnose adirondack chair cushion fit adironda...</td>\n",
       "      <td>49 2 20.5 resists fading stain mildew filled m...</td>\n",
       "      <td>0</td>\n",
       "      <td>0</td>\n",
       "      <td>0</td>\n",
       "      <td>2</td>\n",
       "      <td>0.000000</td>\n",
       "      <td>0.000000</td>\n",
       "      <td>0.000000</td>\n",
       "      <td>0.000000</td>\n",
       "      <td>0.000000</td>\n",
       "    </tr>\n",
       "    <tr>\n",
       "      <th>240757</th>\n",
       "      <td>240758</td>\n",
       "      <td>simpson strong-tie hb 3-1/2 x 14 in. top flang...</td>\n",
       "      <td>224426</td>\n",
       "      <td>NaN</td>\n",
       "      <td>hb</td>\n",
       "      <td>joist hanger designed provide support undernea...</td>\n",
       "      <td></td>\n",
       "      <td>1</td>\n",
       "      <td>1</td>\n",
       "      <td>0</td>\n",
       "      <td>1</td>\n",
       "      <td>1.000000</td>\n",
       "      <td>1.000000</td>\n",
       "      <td>0.000000</td>\n",
       "      <td>0.230768</td>\n",
       "      <td>0.081345</td>\n",
       "    </tr>\n",
       "    <tr>\n",
       "      <th>240758</th>\n",
       "      <td>240759</td>\n",
       "      <td>1/4 in. -20 tpi x 1-1/2 in. stainless steel bu...</td>\n",
       "      <td>224427</td>\n",
       "      <td>NaN</td>\n",
       "      <td>hex socket</td>\n",
       "      <td>socket cap screw ideal application require wel...</td>\n",
       "      <td></td>\n",
       "      <td>2</td>\n",
       "      <td>2</td>\n",
       "      <td>0</td>\n",
       "      <td>2</td>\n",
       "      <td>1.000000</td>\n",
       "      <td>1.000000</td>\n",
       "      <td>0.000000</td>\n",
       "      <td>0.251458</td>\n",
       "      <td>0.208611</td>\n",
       "    </tr>\n",
       "    <tr>\n",
       "      <th>240759</th>\n",
       "      <td>240760</td>\n",
       "      <td>bosch 4 in. bi-metal hole saw</td>\n",
       "      <td>224428</td>\n",
       "      <td>NaN</td>\n",
       "      <td>4 inch hole saw</td>\n",
       "      <td>bosch quick change bi-metal hole saw feature p...</td>\n",
       "      <td>4 1.6 bi-metal progressor tooth design faster ...</td>\n",
       "      <td>3</td>\n",
       "      <td>2</td>\n",
       "      <td>3</td>\n",
       "      <td>4</td>\n",
       "      <td>0.750000</td>\n",
       "      <td>0.500000</td>\n",
       "      <td>0.750000</td>\n",
       "      <td>0.318784</td>\n",
       "      <td>0.153878</td>\n",
       "    </tr>\n",
       "  </tbody>\n",
       "</table>\n",
       "<p>240760 rows × 16 columns</p>\n",
       "</div>"
      ],
      "text/plain": [
       "            id                                      product_title  \\\n",
       "0            2                  simpson strong-tie 12-gauge angle   \n",
       "1            3                  simpson strong-tie 12-gauge angle   \n",
       "2            9  behr premium textured deckover 1-gal. #sc-141 ...   \n",
       "3           16  delta vero 1-handle shower faucet trim kit chr...   \n",
       "4           17  delta vero 1-handle shower faucet trim kit chr...   \n",
       "5           18  whirlpool 1.9 cu. ft. range convection microwa...   \n",
       "6           20  whirlpool 1.9 cu. ft. range convection microwa...   \n",
       "7           21  whirlpool 1.9 cu. ft. range convection microwa...   \n",
       "8           23  lithonia lighting quantum 2-light black led em...   \n",
       "9           27  house fara 3/4 in. x 3 in. x 8 ft. mdf fluted ...   \n",
       "10          34            valley view industry metal stake 4-pack   \n",
       "11          35  toro personal pace recycler 22 in. variable sp...   \n",
       "12          37  toro personal pace recycler 22 in. variable sp...   \n",
       "13          38  toro personal pace recycler 22 in. variable sp...   \n",
       "14          48  hampton bay caramel simple weave bamboo rollup...   \n",
       "15          51  insinkerator sinktop switch single outlet insi...   \n",
       "16          65  sunjoy calais 8 ft. x 5 ft. x 8 ft. steel tile...   \n",
       "17          69  md building product 36 in. x 36 in. cloverleaf...   \n",
       "18          75  md building product 36 in. x 36 in. cloverleaf...   \n",
       "19          81  md building product 36 in. x 36 in. cloverleaf...   \n",
       "20          85  md building product 36 in. x 36 in. cloverleaf...   \n",
       "21          88  house fara 8 linear ft. mdf overlapping wainsc...   \n",
       "22          90  house fara 8 linear ft. mdf overlapping wainsc...   \n",
       "23          92  house fara 8 linear ft. mdf overlapping wainsc...   \n",
       "24         101  house fara 8 linear ft. mdf overlapping wainsc...   \n",
       "25         105  house fara 8 linear ft. mdf overlapping wainsc...   \n",
       "26         106  house fara 8 linear ft. mdf overlapping wainsc...   \n",
       "27         113   1804 dual spray half pattern 4 pop-up spray head   \n",
       "28         114   1804 dual spray half pattern 4 pop-up spray head   \n",
       "29         117  samsung 4.2 cu. ft. front load washer steam wh...   \n",
       "...        ...                                                ...   \n",
       "240730  240731                      6-panel composite bifold door   \n",
       "240731  240732     eaton csr 200-amp double pole main breaker kit   \n",
       "240732  240733  crown bolt 3/16 in. zinc plated steel axle hat...   \n",
       "240733  240734                dicky 2-pocket utility knife sheath   \n",
       "240734  240735  patio living concept san juan 60 in. outdoor b...   \n",
       "240735  240736             speakman emergency eyewash safety sign   \n",
       "240736  240737                plantronics cable m12 cs50/cs55 ph1   \n",
       "240737  240738  glomar vanguard 9-light textured black chandel...   \n",
       "240738  240739        kwikset milan satin nickel half-dummy lever   \n",
       "240739  240740  advanced drainage system 1/2 in. x 100 ft. ip ...   \n",
       "240740  240741  magnavox 50 in. class led 1080p 120 bmr slim hdtv   \n",
       "240741  240742  ekena millwork 7 in. x 3/4 in. x 11 in. hillsb...   \n",
       "240742  240743  minwax 1 gal. semi-gloss polycrylic protective...   \n",
       "240743  240744  southern living plant collection 3 gal. pink s...   \n",
       "240744  240745  ge 5.0 cu. ft. gas range self-cleaning oven black   \n",
       "240745  240746  southwire 150 ft. 12-3 cu w/g submersible pump...   \n",
       "240746  240747  generac protector series 15000-watt 120/240-vo...   \n",
       "240747  240748  kohler clearflo brass toe tap bath drain vibra...   \n",
       "240748  240749  casablanca 4-light maiden bronze ceiling fan f...   \n",
       "240749  240750  glidden premium 5-gal. #hdgr19 fresh peony sat...   \n",
       "240750  240751  everbilt 1/8 in. x 50 ft. reflective black par...   \n",
       "240751  240752  crown bolt 5/16 in. 1/4 in.-20 x 1-1/2 in. all...   \n",
       "240752  240753  universal tub 4.5 ft. right drain wheel chair ...   \n",
       "240753  240754  everbilt #12 x 1-1/2 in. phillips brass flat-h...   \n",
       "240754  240755  coastal shower door legend series 24 in. x 64 ...   \n",
       "240755  240756  stufurhome norma 24 in. w x 16 in. x 34 in. h ...   \n",
       "240756  240757  home decorator collection 49 in. alessandro sp...   \n",
       "240757  240758  simpson strong-tie hb 3-1/2 x 14 in. top flang...   \n",
       "240758  240759  1/4 in. -20 tpi x 1-1/2 in. stainless steel bu...   \n",
       "240759  240760                      bosch 4 in. bi-metal hole saw   \n",
       "\n",
       "        product_uid  relevance                      search_term  \\\n",
       "0            100001       3.00                    angle bracket   \n",
       "1            100001       2.50                        l bracket   \n",
       "2            100002       3.00                             deck   \n",
       "3            100005       2.33                 rain shower head   \n",
       "4            100005       2.67                    shower faucet   \n",
       "5            100006       3.00                   convection otr   \n",
       "6            100006       2.67                  microwave stove   \n",
       "7            100006       3.00                        microwave   \n",
       "8            100007       2.67                  emergency light   \n",
       "9            100009       3.00                          mdf 3/4   \n",
       "10           100010       2.67                     steele stake   \n",
       "11           100011       3.00       briggs stratton lawn mower   \n",
       "12           100011       3.00                         gas mowe   \n",
       "13           100011       2.00                      honda mower   \n",
       "14           100012       2.67  hampton bay chestnut pull shade   \n",
       "15           100013       2.67                         disposer   \n",
       "16           100016       3.00                     grill gazebo   \n",
       "17           100017       1.00                       door guard   \n",
       "18           100017       1.67           metal plate cover gcfi   \n",
       "19           100017       2.33                   radiator grate   \n",
       "20           100017       2.33                    window screen   \n",
       "21           100019       1.33         1x1 rail decorative wood   \n",
       "22           100019       2.67           4*8 beadboard paneling   \n",
       "23           100019       2.33                 4x8wood paneling   \n",
       "24           100019       1.33                          mdf 4x8   \n",
       "25           100019       2.33              wainscot chair rail   \n",
       "26           100019       2.33          wainscot plank paneling   \n",
       "27           100021       2.00                   lawn sprkinler   \n",
       "28           100021       2.33               rainbird sprinkler   \n",
       "29           100022       2.67                  platform washer   \n",
       "...             ...        ...                              ...   \n",
       "240730       224399        NaN          bifold oak 6 panel door   \n",
       "240731       224400        NaN      200 amp breaker double pole   \n",
       "240732       224401        NaN                 axle locking nut   \n",
       "240733       224402        NaN                           sheath   \n",
       "240734       224403        NaN              outdoor patio shade   \n",
       "240735       224404        NaN                      safety sign   \n",
       "240736       224405        NaN                        ph1 cable   \n",
       "240737       224406        NaN                         vanguard   \n",
       "240738       224407        NaN                     dummy handle   \n",
       "240739       224408        NaN         advanced drainage system   \n",
       "240740       224409        NaN                           led tv   \n",
       "240741       224410        NaN                        l molding   \n",
       "240742       224411        NaN                minwax polycrylic   \n",
       "240743       224412        NaN                         camellia   \n",
       "240744       224413        NaN                  black gas range   \n",
       "240745       224414        NaN                 submersible wire   \n",
       "240746       224415        NaN    32kw generac protector series   \n",
       "240747       224416        NaN                     bathroom tap   \n",
       "240748       224417        NaN        ceiling fan light fixture   \n",
       "240749       224418        NaN                            peony   \n",
       "240750       224419        NaN                         paracord   \n",
       "240751       224420        NaN               2 inch 1/4-20 bolt   \n",
       "240752       224421        NaN                       bath chair   \n",
       "240753       224422        NaN                        1/2 brass   \n",
       "240754       224423        NaN                pivot shower door   \n",
       "240755       224424        NaN         24 whtie storage cabinet   \n",
       "240756       224425        NaN                adirondeck cusion   \n",
       "240757       224426        NaN                               hb   \n",
       "240758       224427        NaN                       hex socket   \n",
       "240759       224428        NaN                  4 inch hole saw   \n",
       "\n",
       "                                      product_description  \\\n",
       "0       angle make joint stronger also provide consist...   \n",
       "1       angle make joint stronger also provide consist...   \n",
       "2       behr premium textured deckover innovative soli...   \n",
       "3       update bathroom delta vero single-handle showe...   \n",
       "4       update bathroom delta vero single-handle showe...   \n",
       "5       achieving delicious result almost effortless w...   \n",
       "6       achieving delicious result almost effortless w...   \n",
       "7       achieving delicious result almost effortless w...   \n",
       "8       quantum adjustable 2-light led black emergency...   \n",
       "9       get house fara 3/4 in. x 3 in. x 8 ft. mdf flu...   \n",
       "10      valley view industry metal stake 4-pack 9 in. ...   \n",
       "11      recycler 22 in. personal pace variable speed s...   \n",
       "12      recycler 22 in. personal pace variable speed s...   \n",
       "13      recycler 22 in. personal pace variable speed s...   \n",
       "14      96 in. wide caramel simple weave rollup bamboo...   \n",
       "15      insinkerator sinktop switch single outlet insi...   \n",
       "16      make grilling great handsome functional grill ...   \n",
       "17      md building product 36 in. x 36 in. x 1/50 in....   \n",
       "18      md building product 36 in. x 36 in. x 1/50 in....   \n",
       "19      md building product 36 in. x 36 in. x 1/50 in....   \n",
       "20      md building product 36 in. x 36 in. x 1/50 in....   \n",
       "21      house fara 8 linear ft. primed mdf overlapping...   \n",
       "22      house fara 8 linear ft. primed mdf overlapping...   \n",
       "23      house fara 8 linear ft. primed mdf overlapping...   \n",
       "24      house fara 8 linear ft. primed mdf overlapping...   \n",
       "25      house fara 8 linear ft. primed mdf overlapping...   \n",
       "26      house fara 8 linear ft. primed mdf overlapping...   \n",
       "27      installed park backyard across globe rain bird...   \n",
       "28      installed park backyard across globe rain bird...   \n",
       "29      samsung 4.2 cu. ft. front load washer steam wh...   \n",
       "...                                                   ...   \n",
       "240730  give home custom look plantation styled bi-fol...   \n",
       "240731  eaton csr 200-amp double-pole main breaker kit...   \n",
       "240732  push nut screw thread inward facing flange. fl...   \n",
       "240733  dicky utility knife sheath constructed rugged ...   \n",
       "240734  carefree resin durability adding elegance outd...   \n",
       "240735  speakman branded emergency eyewash safety sign...   \n",
       "240736  pl-65111-01 plantronics ph1 accessory item. un...   \n",
       "240737  1940's back hint today. available flemish gold...   \n",
       "240738  step designer style superior security kwikset ...   \n",
       "240739  1/2 in. x 100 ft. ip 125 psi nsf poly pipe eas...   \n",
       "240740  enjoy optimal viewing area magnavox 50 in. 108...   \n",
       "240741  beautiful crown moulding great way separate de...   \n",
       "240742  minwax polycrylic protective finish protective...   \n",
       "240743  pink stella camellia southern living plant col...   \n",
       "240744  ge 30 in. 5.0 cu. ft. gas range self-cleaning ...   \n",
       "240745  southwires submersible pump cable used submers...   \n",
       "240746  generacs new protector series diesel generator...   \n",
       "240747  clearflo brass toe-tap bath drain work perfect...   \n",
       "240748  light kit casablanca great design sure complem...   \n",
       "240749  glidden premium 5-gal. satin latex exterior pa...   \n",
       "240750  paracord ideal camping hiking outdoor activiti...   \n",
       "240751  crown bolt's shoulder bolt also known stripper...   \n",
       "240752  wheel chair accessible's provide safe independ...   \n",
       "240753  wood screw thread forming screw larger thread ...   \n",
       "240754  legend series framed swing stand-al1 continuou...   \n",
       "240755  create neat yet stylish storage space organizi...   \n",
       "240756  bullnose adirondack chair cushion fit adironda...   \n",
       "240757  joist hanger designed provide support undernea...   \n",
       "240758  socket cap screw ideal application require wel...   \n",
       "240759  bosch quick change bi-metal hole saw feature p...   \n",
       "\n",
       "                                       product_attributes  \\\n",
       "0       versatile connector various 90° connection hom...   \n",
       "1       versatile connector various 90° connection hom...   \n",
       "2       brushrollerspray 6.63 7.76 6.63 revives wood c...   \n",
       "3       combo tub shower includes trim kit rough-in ki...   \n",
       "4       combo tub shower includes trim kit rough-in ki...   \n",
       "5       range microwave 18.5 17.13 29.94 spacious 1.9 ...   \n",
       "6       range microwave 18.5 17.13 29.94 spacious 1.9 ...   \n",
       "7       range microwave 18.5 17.13 29.94 spacious 1.9 ...   \n",
       "8       ni-cad .built-in led advanced led technology d...   \n",
       "9       door & window made primed mdf painted match de...   \n",
       "10      used valley view lawn edging brick/ paver edgi...   \n",
       "11      59 44 23 22 recycler cutting system - front th...   \n",
       "12      59 44 23 22 recycler cutting system - front th...   \n",
       "13      59 44 23 22 recycler cutting system - front th...   \n",
       "14      96 96 in. w x 72 in. l actual blind width 96 i...   \n",
       "15      kit includes satin nickel chrome white finish ...   \n",
       "16      8 5 96.45 98.4 60.6 vented canopy built lattic...   \n",
       "17      use repair door window screen add stylish acce...   \n",
       "18      use repair door window screen add stylish acce...   \n",
       "19      use repair door window screen add stylish acce...   \n",
       "20      use repair door window screen add stylish acce...   \n",
       "21      wall mdf kit includes 1-piece 8 ft. chairrail ...   \n",
       "22      wall mdf kit includes 1-piece 8 ft. chairrail ...   \n",
       "23      wall mdf kit includes 1-piece 8 ft. chairrail ...   \n",
       "24      wall mdf kit includes 1-piece 8 ft. chairrail ...   \n",
       "25      wall mdf kit includes 1-piece 8 ft. chairrail ...   \n",
       "26      wall mdf kit includes 1-piece 8 ft. chairrail ...   \n",
       "27      6 2.25 2.25 spray distance 8 ft. 15 ft. patent...   \n",
       "28      6 2.25 2.25 spray distance 8 ft. 15 ft. patent...   \n",
       "29      15 front load washer 33 38.7 27 4.2 cu. ft. do...   \n",
       "...                                                   ...   \n",
       "240730  track matching door knob hardware included har...   \n",
       "240731  use main breaker main breaker meter breaker lo...   \n",
       "240732  .69 .577 .5 3-pieces per pack steel constructi...   \n",
       "240733  compact design daily use holder lightw8 webbin...   \n",
       "240734  beige weatherproof rust weatherproof cord plug...   \n",
       "240735  includes 2 green plastic zip tie feature unive...   \n",
       "240736  vista stub 500 mm 1 year warranty black color ...   \n",
       "240737  yes incandescentno bulb included textured blac...   \n",
       "240738  dummy 2.5625 2.625 4.15625 designer style supe...   \n",
       "240739  0.622 0.682 flexible construction installs eas...   \n",
       "240740  spectacular picture full hd 1080p resolution b...   \n",
       "240741  wall trim chair rail modeled original historic...   \n",
       "240742  brush crystal clear finish ideal use light woo...   \n",
       "240743  evergreenhummingbird/butterfly attractant pere...   \n",
       "240744  gas range 12500 oven 5.0 cu. ft. oven allow co...   \n",
       "240745  20 insulation tough heat moisture resistant pv...   \n",
       "240746  evolution controller next generation intuitive...   \n",
       "240747  brass piping tee construction durability code ...   \n",
       "240748  incandescent incandescent 40-watt bulb include...   \n",
       "240749                                                      \n",
       "240750  make paracord survival bracelet ensure paracor...   \n",
       "240751  0.15 4.25 2 1-piece per bag steel construction...   \n",
       "240752  yes yes speak bathtub specialist simply call 1...   \n",
       "240753  0.44 1.5 0.44 2 piece per pack brass construct...   \n",
       "240754  adjusts fit shower opening minimum width dimen...   \n",
       "240755  solid wood construction side backboard plywood...   \n",
       "240756  49 2 20.5 resists fading stain mildew filled m...   \n",
       "240757                                                      \n",
       "240758                                                      \n",
       "240759  4 1.6 bi-metal progressor tooth design faster ...   \n",
       "\n",
       "        common_search_title  common_search_description  \\\n",
       "0                         1                          1   \n",
       "1                         0                          0   \n",
       "2                         0                          1   \n",
       "3                         1                          1   \n",
       "4                         2                          2   \n",
       "5                         1                          1   \n",
       "6                         1                          1   \n",
       "7                         1                          1   \n",
       "8                         1                          2   \n",
       "9                         2                          2   \n",
       "10                        1                          1   \n",
       "11                        4                          4   \n",
       "12                        1                          1   \n",
       "13                        1                          1   \n",
       "14                        3                          2   \n",
       "15                        0                          0   \n",
       "16                        2                          2   \n",
       "17                        0                          1   \n",
       "18                        0                          0   \n",
       "19                        0                          0   \n",
       "20                        0                          2   \n",
       "21                        0                          1   \n",
       "22                        1                          1   \n",
       "23                        1                          1   \n",
       "24                        1                          1   \n",
       "25                        1                          3   \n",
       "26                        2                          2   \n",
       "27                        0                          1   \n",
       "28                        0                          1   \n",
       "29                        1                          1   \n",
       "...                     ...                        ...   \n",
       "240730                    2                          1   \n",
       "240731                    3                          2   \n",
       "240732                    2                          1   \n",
       "240733                    1                          1   \n",
       "240734                    3                          2   \n",
       "240735                    2                          2   \n",
       "240736                    2                          2   \n",
       "240737                    1                          1   \n",
       "240738                    0                          0   \n",
       "240739                    3                          0   \n",
       "240740                    1                          2   \n",
       "240741                    0                          0   \n",
       "240742                    2                          2   \n",
       "240743                    1                          1   \n",
       "240744                    3                          3   \n",
       "240745                    1                          1   \n",
       "240746                    3                          3   \n",
       "240747                    1                          1   \n",
       "240748                    3                          3   \n",
       "240749                    1                          0   \n",
       "240750                    1                          1   \n",
       "240751                    1                          1   \n",
       "240752                    2                          1   \n",
       "240753                    1                          0   \n",
       "240754                    2                          2   \n",
       "240755                    3                          3   \n",
       "240756                    0                          0   \n",
       "240757                    1                          1   \n",
       "240758                    2                          2   \n",
       "240759                    3                          2   \n",
       "\n",
       "        common_search_attributes  len_search_term  ratio_search_title  \\\n",
       "0                              0                2            0.500000   \n",
       "1                              0                2            0.000000   \n",
       "2                              1                1            0.000000   \n",
       "3                              2                3            0.333333   \n",
       "4                              2                2            1.000000   \n",
       "5                              1                2            0.500000   \n",
       "6                              1                2            0.500000   \n",
       "7                              1                1            1.000000   \n",
       "8                              2                2            0.500000   \n",
       "9                              1                2            1.000000   \n",
       "10                             1                2            0.500000   \n",
       "11                             4                4            1.000000   \n",
       "12                             1                2            0.500000   \n",
       "13                             1                2            0.500000   \n",
       "14                             4                5            0.600000   \n",
       "15                             0                1            0.000000   \n",
       "16                             2                2            1.000000   \n",
       "17                             1                2            0.000000   \n",
       "18                             1                4            0.000000   \n",
       "19                             0                2            0.000000   \n",
       "20                             2                2            0.000000   \n",
       "21                             1                4            0.000000   \n",
       "22                             1                3            0.333333   \n",
       "23                             0                2            0.500000   \n",
       "24                             1                2            0.500000   \n",
       "25                             3                3            0.333333   \n",
       "26                             1                3            0.666667   \n",
       "27                             0                2            0.000000   \n",
       "28                             1                2            0.000000   \n",
       "29                             1                2            0.500000   \n",
       "...                          ...              ...                 ...   \n",
       "240730                         4                5            0.400000   \n",
       "240731                         4                5            0.600000   \n",
       "240732                         2                3            0.666667   \n",
       "240733                         0                1            1.000000   \n",
       "240734                         2                3            1.000000   \n",
       "240735                         2                2            1.000000   \n",
       "240736                         0                2            1.000000   \n",
       "240737                         0                1            1.000000   \n",
       "240738                         1                2            0.000000   \n",
       "240739                         3                3            1.000000   \n",
       "240740                         1                2            0.500000   \n",
       "240741                         0                2            0.000000   \n",
       "240742                         1                2            1.000000   \n",
       "240743                         1                1            1.000000   \n",
       "240744                         3                3            1.000000   \n",
       "240745                         0                2            0.500000   \n",
       "240746                         3                4            0.750000   \n",
       "240747                         1                2            0.500000   \n",
       "240748                         3                4            0.750000   \n",
       "240749                         0                1            1.000000   \n",
       "240750                         1                1            1.000000   \n",
       "240751                         2                4            0.250000   \n",
       "240752                         0                2            1.000000   \n",
       "240753                         1                2            0.500000   \n",
       "240754                         2                3            0.666667   \n",
       "240755                         1                4            0.750000   \n",
       "240756                         0                2            0.000000   \n",
       "240757                         0                1            1.000000   \n",
       "240758                         0                2            1.000000   \n",
       "240759                         3                4            0.750000   \n",
       "\n",
       "        ratio_search_description  ratio_search_attri  cos_search_title  \\\n",
       "0                       0.500000            0.000000          0.175786   \n",
       "1                       0.000000            0.000000          0.000000   \n",
       "2                       1.000000            1.000000          0.000000   \n",
       "3                       0.333333            0.666667          0.103716   \n",
       "4                       1.000000            1.000000          0.335176   \n",
       "5                       0.500000            0.500000          0.133785   \n",
       "6                       0.500000            0.500000          0.133785   \n",
       "7                       1.000000            1.000000          0.230768   \n",
       "8                       1.000000            1.000000          0.355477   \n",
       "9                       1.000000            0.500000          0.230768   \n",
       "10                      0.500000            0.500000          0.175786   \n",
       "11                      1.000000            1.000000          0.367116   \n",
       "12                      0.500000            0.500000          0.101529   \n",
       "13                      0.500000            0.500000          0.101529   \n",
       "14                      0.400000            0.800000          0.228827   \n",
       "15                      0.000000            0.000000          0.000000   \n",
       "16                      1.000000            1.000000          0.259698   \n",
       "17                      0.500000            0.500000          0.000000   \n",
       "18                      0.000000            0.250000          0.000000   \n",
       "19                      0.000000            0.000000          0.000000   \n",
       "20                      1.000000            1.000000          0.000000   \n",
       "21                      0.250000            0.250000          0.000000   \n",
       "22                      0.333333            0.333333          0.133785   \n",
       "23                      0.500000            0.000000          0.133785   \n",
       "24                      0.500000            0.500000          0.133785   \n",
       "25                      1.000000            1.000000          0.103716   \n",
       "26                      0.666667            0.333333          0.237739   \n",
       "27                      0.500000            0.000000          0.000000   \n",
       "28                      0.500000            0.500000          0.000000   \n",
       "29                      0.500000            0.500000          0.133785   \n",
       "...                          ...                 ...               ...   \n",
       "240730                  0.200000            0.800000          0.602975   \n",
       "240731                  0.400000            0.800000          0.622541   \n",
       "240732                  0.333333            0.666667          0.225555   \n",
       "240733                  1.000000            0.000000          0.335176   \n",
       "240734                  0.666667            0.666667          0.348306   \n",
       "240735                  1.000000            1.000000          0.502329   \n",
       "240736                  1.000000            0.000000          0.449436   \n",
       "240737                  1.000000            0.000000          0.243956   \n",
       "240738                  0.000000            0.500000          0.161714   \n",
       "240739                  0.000000            1.000000          0.379978   \n",
       "240740                  1.000000            0.500000          0.133785   \n",
       "240741                  0.000000            0.000000          0.000000   \n",
       "240742                  1.000000            0.500000          0.410363   \n",
       "240743                  1.000000            1.000000          0.259698   \n",
       "240744                  1.000000            1.000000          0.449436   \n",
       "240745                  0.500000            0.000000          0.150557   \n",
       "240746                  0.750000            0.750000          0.260269   \n",
       "240747                  0.500000            0.500000          0.133785   \n",
       "240748                  0.750000            0.750000          0.502329   \n",
       "240749                  0.000000            0.000000          0.230768   \n",
       "240750                  1.000000            1.000000          0.278943   \n",
       "240751                  0.250000            0.500000          0.271651   \n",
       "240752                  0.500000            0.000000          0.268805   \n",
       "240753                  0.000000            0.500000          0.219511   \n",
       "240754                  0.666667            0.666667          0.335981   \n",
       "240755                  0.750000            0.250000          0.228633   \n",
       "240756                  0.000000            0.000000          0.000000   \n",
       "240757                  1.000000            0.000000          0.230768   \n",
       "240758                  1.000000            0.000000          0.251458   \n",
       "240759                  0.500000            0.750000          0.318784   \n",
       "\n",
       "        cos_search_description  \n",
       "0                     0.074682  \n",
       "1                     0.000000  \n",
       "2                     0.164410  \n",
       "3                     0.034786  \n",
       "4                     0.109780  \n",
       "5                     0.056757  \n",
       "6                     0.056757  \n",
       "7                     0.097901  \n",
       "8                     0.178532  \n",
       "9                     0.085343  \n",
       "10                    0.231323  \n",
       "11                    0.233139  \n",
       "12                    0.023795  \n",
       "13                    0.121392  \n",
       "14                    0.108705  \n",
       "15                    0.000000  \n",
       "16                    0.590594  \n",
       "17                    0.038548  \n",
       "18                    0.000000  \n",
       "19                    0.000000  \n",
       "20                    0.094236  \n",
       "21                    0.052762  \n",
       "22                    0.080500  \n",
       "23                    0.080500  \n",
       "24                    0.039969  \n",
       "25                    0.245160  \n",
       "26                    0.140614  \n",
       "27                    0.079293  \n",
       "28                    0.052596  \n",
       "29                    0.103038  \n",
       "...                        ...  \n",
       "240730                0.105700  \n",
       "240731                0.317153  \n",
       "240732                0.111856  \n",
       "240733                0.170053  \n",
       "240734                0.110112  \n",
       "240735                0.376755  \n",
       "240736                0.190116  \n",
       "240737                0.093021  \n",
       "240738                0.033963  \n",
       "240739                0.000000  \n",
       "240740                0.081081  \n",
       "240741                0.000000  \n",
       "240742                0.235638  \n",
       "240743                0.155241  \n",
       "240744                0.124953  \n",
       "240745                0.117824  \n",
       "240746                0.197757  \n",
       "240747                0.112961  \n",
       "240748                0.391696  \n",
       "240749                0.000000  \n",
       "240750                0.332922  \n",
       "240751                0.140316  \n",
       "240752                0.077713  \n",
       "240753                0.000000  \n",
       "240754                0.281950  \n",
       "240755                0.132282  \n",
       "240756                0.000000  \n",
       "240757                0.081345  \n",
       "240758                0.208611  \n",
       "240759                0.153878  \n",
       "\n",
       "[240760 rows x 16 columns]"
      ]
     },
     "execution_count": 59,
     "metadata": {},
     "output_type": "execute_result"
    }
   ],
   "source": [
    "df_all"
   ]
  },
  {
   "cell_type": "markdown",
   "metadata": {},
   "source": [
    "Now all the text features are transfromed to numerical fetaures, and text features could be dropped."
   ]
  },
  {
   "cell_type": "code",
   "execution_count": 60,
   "metadata": {
    "collapsed": false,
    "deletable": true,
    "editable": true
   },
   "outputs": [],
   "source": [
    "#drop text features\n",
    "df = df_all.drop([ \"product_title\", \"search_term\", \"product_description\", \"product_attributes\"], axis=1)"
   ]
  },
  {
   "cell_type": "code",
   "execution_count": 61,
   "metadata": {
    "collapsed": false
   },
   "outputs": [],
   "source": [
    "df = df.drop([\"common_search_title\", \"common_search_description\",\"common_search_attributes\"], axis=1)"
   ]
  },
  {
   "cell_type": "code",
   "execution_count": 74,
   "metadata": {
    "collapsed": true
   },
   "outputs": [],
   "source": [
    "df.to_csv('df.csv', columns = [\"id\", \"relevance\",\"len_search_term\",\"ratio_search_title\",\"ratio_search_description\",\"ratio_search_attri\",\"cos_search_title\",\"cos_search_description\"], index = False)"
   ]
  },
  {
   "cell_type": "markdown",
   "metadata": {},
   "source": [
    "# 5. Model Building"
   ]
  },
  {
   "cell_type": "markdown",
   "metadata": {},
   "source": [
    "In this part, Random Forest regression model were built up on Spark to fit the dataset. \n",
    "\n",
    "### 5.1. data preparation\n",
    "First, the dataset should be transfered to spark platform and new dataframes should be created."
   ]
  },
  {
   "cell_type": "code",
   "execution_count": 62,
   "metadata": {
    "collapsed": false,
    "deletable": true,
    "editable": true
   },
   "outputs": [],
   "source": [
    "#split train and test set\n",
    "train = df[:len(df_train)]\n",
    "#train"
   ]
  },
  {
   "cell_type": "code",
   "execution_count": 63,
   "metadata": {
    "collapsed": false,
    "deletable": true,
    "editable": true
   },
   "outputs": [],
   "source": [
    "test = df[len(df_train):]\n",
    "test = test.drop([\"relevance\"], axis=1)"
   ]
  },
  {
   "cell_type": "code",
   "execution_count": 64,
   "metadata": {
    "collapsed": false
   },
   "outputs": [],
   "source": [
    "import pyspark\n",
    "from pyspark import SparkContext\n",
    "from pyspark import SQLContext\n",
    "\n",
    "from pyspark.ml import Pipeline\n",
    "from pyspark.ml.regression import RandomForestRegressor\n",
    "from pyspark.ml.feature import VectorIndexer\n",
    "from pyspark.ml.evaluation import RegressionEvaluator"
   ]
  },
  {
   "cell_type": "code",
   "execution_count": 65,
   "metadata": {
    "collapsed": false
   },
   "outputs": [],
   "source": [
    "sc = SparkContext()\n",
    "sqlContext = SQLContext(sc)"
   ]
  },
  {
   "cell_type": "code",
   "execution_count": 66,
   "metadata": {
    "collapsed": false
   },
   "outputs": [
    {
     "name": "stdout",
     "output_type": "stream",
     "text": [
      "root\n",
      " |-- id: long (nullable = true)\n",
      " |-- product_uid: long (nullable = true)\n",
      " |-- relevance: double (nullable = true)\n",
      " |-- len_search_term: long (nullable = true)\n",
      " |-- ratio_search_title: double (nullable = true)\n",
      " |-- ratio_search_description: double (nullable = true)\n",
      " |-- ratio_search_attri: double (nullable = true)\n",
      " |-- cos_search_title: double (nullable = true)\n",
      " |-- cos_search_description: double (nullable = true)\n",
      "\n"
     ]
    }
   ],
   "source": [
    "df_train_spark = sqlContext.createDataFrame(train)\n",
    "df_train_spark.printSchema()"
   ]
  },
  {
   "cell_type": "code",
   "execution_count": 67,
   "metadata": {
    "collapsed": false
   },
   "outputs": [
    {
     "name": "stdout",
     "output_type": "stream",
     "text": [
      "root\n",
      " |-- id: long (nullable = true)\n",
      " |-- product_uid: long (nullable = true)\n",
      " |-- len_search_term: long (nullable = true)\n",
      " |-- ratio_search_title: double (nullable = true)\n",
      " |-- ratio_search_description: double (nullable = true)\n",
      " |-- ratio_search_attri: double (nullable = true)\n",
      " |-- cos_search_title: double (nullable = true)\n",
      " |-- cos_search_description: double (nullable = true)\n",
      "\n"
     ]
    }
   ],
   "source": [
    "df_test_spark = sqlContext.createDataFrame(test) \n",
    "df_test_spark.printSchema()"
   ]
  },
  {
   "cell_type": "markdown",
   "metadata": {},
   "source": [
    "### 5.2. Random Forest Regressor Building\n",
    "Random forest regression is a good choice, as it is an ensemble method, in which the final prediction is based on the mean prediction of each tree. Overfitting could be avoided in this way. So I choose random forest regressor."
   ]
  },
  {
   "cell_type": "markdown",
   "metadata": {},
   "source": [
    "First, a baseline model was built up. In order to evaluate the model performance during the training process, 20% of training data were randomly extracted from training set and performed as validation set, which performed as test data during training process. Default paramteres were used for baseline builder, and we explicitly design the number of trees as 50.\n",
    "\n",
    "The features I used are:\n",
    "    1. product_uid\n",
    "    2. len_search_term\n",
    "    3. ratio_search_title\n",
    "    4. ratio_search_description\n",
    "    5. ratio_search_attri\n",
    "    6. cos_search_title\n",
    "    7. cos_search_description"
   ]
  },
  {
   "cell_type": "code",
   "execution_count": 68,
   "metadata": {
    "collapsed": true
   },
   "outputs": [],
   "source": [
    "from pyspark.ml.feature import VectorAssembler"
   ]
  },
  {
   "cell_type": "code",
   "execution_count": 75,
   "metadata": {
    "collapsed": true
   },
   "outputs": [],
   "source": [
    "# Split the data into training and test sets (20% held out for testing)\n",
    "(train, validation) = df_train_spark.randomSplit([0.8, 0.2])"
   ]
  },
  {
   "cell_type": "code",
   "execution_count": 76,
   "metadata": {
    "collapsed": false
   },
   "outputs": [
    {
     "data": {
      "text/plain": [
       "DataFrame[id: bigint, product_uid: bigint, len_search_term: bigint, ratio_search_title: double, ratio_search_description: double, ratio_search_attri: double, cos_search_title: double, cos_search_description: double, features: vector]"
      ]
     },
     "execution_count": 76,
     "metadata": {},
     "output_type": "execute_result"
    }
   ],
   "source": [
    "#construct a feature vector as assembler\n",
    "assembler = VectorAssembler(\n",
    "    inputCols=[x for x in train.columns if x not in ['id', 'relevance']],\n",
    "    outputCol='features')\n",
    "#assembler.transform(df_train_spark)\n",
    "assembler.transform(train)\n",
    "assembler.transform(validation)\n",
    "assembler.transform(df_test_spark)"
   ]
  },
  {
   "cell_type": "code",
   "execution_count": 71,
   "metadata": {
    "collapsed": false
   },
   "outputs": [],
   "source": [
    "# Train a RandomForest model.\n",
    "rf_reg = RandomForestRegressor(featuresCol=\"features\", labelCol=\"relevance\", numTrees=50)"
   ]
  },
  {
   "cell_type": "code",
   "execution_count": 77,
   "metadata": {
    "collapsed": true
   },
   "outputs": [],
   "source": [
    "# Chain indexer and forest in a Pipeline\n",
    "pipeline1 = Pipeline(stages=[assembler, rf_reg])"
   ]
  },
  {
   "cell_type": "code",
   "execution_count": 78,
   "metadata": {
    "collapsed": false
   },
   "outputs": [],
   "source": [
    "# Train model.  This also runs the indexer.\n",
    "model1 = pipeline1.fit(train)"
   ]
  },
  {
   "cell_type": "code",
   "execution_count": 79,
   "metadata": {
    "collapsed": true
   },
   "outputs": [],
   "source": [
    "# Make predictions.\n",
    "predictions1 = model1.transform(validation)"
   ]
  },
  {
   "cell_type": "markdown",
   "metadata": {},
   "source": [
    "In order to evaluate the performance of baseline model, I choose Root Mean Squared Error(RMSE), which was used in Kaggle for performance test. "
   ]
  },
  {
   "cell_type": "code",
   "execution_count": 80,
   "metadata": {
    "collapsed": false
   },
   "outputs": [
    {
     "name": "stdout",
     "output_type": "stream",
     "text": [
      "Root Mean Squared Error (RMSE) on test data = 0.483316\n"
     ]
    }
   ],
   "source": [
    "# Select (prediction, true relevance) and compute test error\n",
    "evaluator1 = RegressionEvaluator(\n",
    "    labelCol=\"relevance\", predictionCol=\"prediction\", metricName=\"rmse\")\n",
    "rmse = evaluator1.evaluate(predictions1)\n",
    "print(\"Root Mean Squared Error (RMSE) on test data = %g\" % rmse)"
   ]
  },
  {
   "cell_type": "markdown",
   "metadata": {},
   "source": [
    "The baseline has 0.483 RMSE on validation set. Then prediction on test dataset was performed and the relevance score were output to a csv file for Kaggle test."
   ]
  },
  {
   "cell_type": "code",
   "execution_count": 81,
   "metadata": {
    "collapsed": true
   },
   "outputs": [],
   "source": [
    "#predictionon test set\n",
    "predictions1 = model1.transform(df_test_spark)"
   ]
  },
  {
   "cell_type": "code",
   "execution_count": 82,
   "metadata": {
    "collapsed": false
   },
   "outputs": [],
   "source": [
    "#write to csv\n",
    "test_mat= predictions1.toPandas()\n",
    "test_mat = test_mat.rename(columns={'prediction': 'relevance'})\n",
    "test_mat.to_csv('pred.csv', columns = [\"id\", \"relevance\"], index = False)"
   ]
  },
  {
   "cell_type": "markdown",
   "metadata": {},
   "source": [
    "The model with default parameters of random forest regressor gave a public score of 0.48849, a private score of 0.48796 on Kaggle. It is not a very good score on leaderborad, one of the reasons could be that there is no parameter optimization on regression model.\n",
    "\n",
    "A histgram is helpful to explore the distribution of predictions on test set."
   ]
  },
  {
   "cell_type": "code",
   "execution_count": 83,
   "metadata": {
    "collapsed": false,
    "scrolled": true
   },
   "outputs": [
    {
     "data": {
      "text/plain": [
       "<matplotlib.axes._subplots.AxesSubplot at 0x7f2a7f783c90>"
      ]
     },
     "execution_count": 83,
     "metadata": {},
     "output_type": "execute_result"
    },
    {
     "data": {
      "image/png": "[encoded data removed]",
      "text/plain": [
       "<matplotlib.figure.Figure at 0x7f2a8ca97510>"
      ]
     },
     "metadata": {},
     "output_type": "display_data"
    }
   ],
   "source": [
    "#plot histogram of relevance score\n",
    "test_mat[\"prediction\"].plot.hist()"
   ]
  },
  {
   "cell_type": "markdown",
   "metadata": {},
   "source": [
    "Obviously, the distribution of predictions on test set is highly skewed, as all of the predictions are no smaller than 2.0. Suppose the training set and test set have the same distribution, then all the instances that have low relevance score will make strong contributions to RMSE. It also suggested that more optimization should be performed on current model."
   ]
  },
  {
   "cell_type": "markdown",
   "metadata": {},
   "source": [
    "# 6. Performance Optimization\n",
    "There are two ways to improve the performance of regressor, one is feature engineering, designing more powerful features and droping noisy features; the other one is model optimization, including parameter optimization and cross-validation."
   ]
  },
  {
   "cell_type": "markdown",
   "metadata": {},
   "source": [
    "### 6.1 Feature Enginerring - Importance Analysis\n",
    "Based on the baseline model, we can first see if there is any feature that have low weight, whcih could be considered as irrelavant and dropped.\n",
    "\n",
    "Currently, we have the following features in regressor:\n",
    "    1. product_uid\n",
    "    2. len_search_term\n",
    "    3. ratio_search_title\n",
    "    4. ratio_search_description\n",
    "    5. ratio_search_attri\n",
    "    6. cos_search_title\n",
    "    7. cos_search_description\n",
    "    \n",
    "The parameter 'featureImportances' shows the weight of each feature in the regressor."
   ]
  },
  {
   "cell_type": "code",
   "execution_count": 91,
   "metadata": {
    "collapsed": false
   },
   "outputs": [
    {
     "name": "stdout",
     "output_type": "stream",
     "text": [
      "root\n",
      " |-- id: long (nullable = true)\n",
      " |-- product_uid: long (nullable = true)\n",
      " |-- relevance: double (nullable = true)\n",
      " |-- len_search_term: long (nullable = true)\n",
      " |-- ratio_search_title: double (nullable = true)\n",
      " |-- ratio_search_description: double (nullable = true)\n",
      " |-- ratio_search_attri: double (nullable = true)\n",
      " |-- cos_search_title: double (nullable = true)\n",
      " |-- cos_search_description: double (nullable = true)\n",
      "\n"
     ]
    }
   ],
   "source": [
    "#df_train_spark.printSchema()"
   ]
  },
  {
   "cell_type": "code",
   "execution_count": 88,
   "metadata": {
    "collapsed": false
   },
   "outputs": [
    {
     "data": {
      "text/plain": [
       "[SparseVector(7, {0: 0.09, 1: 0.0319, 2: 0.3691, 3: 0.1661, 4: 0.0103, 5: 0.2855, 6: 0.0472})]"
      ]
     },
     "execution_count": 88,
     "metadata": {},
     "output_type": "execute_result"
    }
   ],
   "source": [
    "#print the weight of each feature\n",
    "[stage.featureImportances for stage in model1.stages if hasattr(stage, \"featureImportances\")]"
   ]
  },
  {
   "cell_type": "markdown",
   "metadata": {},
   "source": [
    "Obviously, the features that are most important are:\n",
    "    2. ratio_search_title, with highest weight of 0.3691\n",
    "    5. cos_search_title, with weight of 0.2855\n",
    "    3. ratio_search_description, with weight of 0.1661\n",
    "    \n",
    "These three features explained about 72% of the regressor. None of the other features has weight over 0.1, which suggest that they are not highly related to the relevance score. Intuitively, dropping those features could be helpful to decrease the noise in the regressor. So I tried to drop some features and build new regressors.\n",
    "\n",
    "Intuitively, the product_uid shoudl not be relevant to the prediction. So I tried to throw 'product_uid' and calculated rmse on the new model."
   ]
  },
  {
   "cell_type": "code",
   "execution_count": 92,
   "metadata": {
    "collapsed": false
   },
   "outputs": [
    {
     "name": "stdout",
     "output_type": "stream",
     "text": [
      "Root Mean Squared Error (RMSE) on test data = 0.486874\n"
     ]
    }
   ],
   "source": [
    "#construct a feature vector as assembler\n",
    "assembler2 = VectorAssembler(\n",
    "    inputCols=[x for x in train.columns if x not in ['id','product_uid', 'relevance']],\n",
    "    outputCol='features')\n",
    "#assembler.transform(df_train_spark)\n",
    "assembler2.transform(train)\n",
    "assembler2.transform(validation)\n",
    "assembler2.transform(df_test_spark)\n",
    "\n",
    "# Train a RandomForest model.\n",
    "rf_reg2 = RandomForestRegressor(featuresCol=\"features\", labelCol=\"relevance\", numTrees=50)\n",
    "\n",
    "# Chain indexer and forest in a Pipeline\n",
    "pipeline2 = Pipeline(stages=[assembler2, rf_reg2])\n",
    "\n",
    "# Train model.  This also runs the indexer.\n",
    "model2 = pipeline2.fit(train)\n",
    "\n",
    "# Make predictions.\n",
    "predictions2 = model2.transform(validation)\n",
    "\n",
    "# Select (prediction, true relevance) and compute test error\n",
    "evaluator2 = RegressionEvaluator(\n",
    "    labelCol=\"relevance\", predictionCol=\"prediction\", metricName=\"rmse\")\n",
    "rmse2 = evaluator2.evaluate(predictions2)\n",
    "print(\"Root Mean Squared Error (RMSE) on test data = %g\" % rmse2)\n"
   ]
  },
  {
   "cell_type": "code",
   "execution_count": 93,
   "metadata": {
    "collapsed": false
   },
   "outputs": [
    {
     "data": {
      "text/plain": [
       "[SparseVector(6, {0: 0.044, 1: 0.3246, 2: 0.203, 3: 0.0502, 4: 0.3222, 5: 0.056})]"
      ]
     },
     "execution_count": 93,
     "metadata": {},
     "output_type": "execute_result"
    }
   ],
   "source": [
    "[stage.featureImportances for stage in model2.stages if hasattr(stage, \"featureImportances\")]"
   ]
  },
  {
   "cell_type": "markdown",
   "metadata": {},
   "source": [
    "Based on the above analysis, the new RMSE score is around 0.487, which is a bit higher than baseline of 0.483. This suggests that 'product_uid' is a useful feature in regressor. \n",
    "\n",
    "On the other hand, the three most important features are still ratio_search_title, cos_search_title, and ratio_search_description, in the new regressor they explained more than 80% of the weight. So I tried throwing all the other features, and only use these three features for regression."
   ]
  },
  {
   "cell_type": "code",
   "execution_count": 94,
   "metadata": {
    "collapsed": false
   },
   "outputs": [
    {
     "name": "stdout",
     "output_type": "stream",
     "text": [
      "Root Mean Squared Error (RMSE) on test data = 0.489295\n"
     ]
    }
   ],
   "source": [
    "#construct a feature vector as assembler\n",
    "assembler3 = VectorAssembler(\n",
    "    inputCols=[x for x in train.columns if x in ['ratio_search_title','ratio_search_description', 'cos_search_title']],\n",
    "    outputCol='features')\n",
    "#assembler.transform(df_train_spark)\n",
    "assembler3.transform(train)\n",
    "assembler3.transform(validation)\n",
    "assembler3.transform(df_test_spark)\n",
    "\n",
    "# Train a RandomForest model.\n",
    "rf_reg3 = RandomForestRegressor(featuresCol=\"features\", labelCol=\"relevance\", numTrees=50)\n",
    "\n",
    "# Chain indexer and forest in a Pipeline\n",
    "pipeline3 = Pipeline(stages=[assembler3, rf_reg3])\n",
    "\n",
    "# Train model.  This also runs the indexer.\n",
    "model3 = pipeline3.fit(train)\n",
    "\n",
    "# Make predictions.\n",
    "predictions3 = model3.transform(validation)\n",
    "\n",
    "# Select (prediction, true relevance) and compute test error\n",
    "evaluator3 = RegressionEvaluator(\n",
    "    labelCol=\"relevance\", predictionCol=\"prediction\", metricName=\"rmse\")\n",
    "rmse3 = evaluator3.evaluate(predictions3)\n",
    "print(\"Root Mean Squared Error (RMSE) on test data = %g\" % rmse3)"
   ]
  },
  {
   "cell_type": "markdown",
   "metadata": {},
   "source": [
    "Unfortunately, RMSE score kept increasing as the number of features descresed. It suggests that although some features are not very important, they still contribute to the accuracy of regressor, and cannot be treated as noise. So I kept all the features and go to the next stage."
   ]
  },
  {
   "cell_type": "markdown",
   "metadata": {},
   "source": [
    "### 6.2 Parameter Optimization and Cross-Validation"
   ]
  },
  {
   "cell_type": "markdown",
   "metadata": {},
   "source": [
    "ParamGridBuilder() and CrossValidator() are the functions for parameter optimization and cross-validation in pySpark.\n",
    "\n",
    "I tried to tune the following parameters in random forest model:<br>\n",
    "    1. numTrees: Number of trees to train. In baseline I used numTrees=50. If numTrees is too small, the ensemble\n",
    "    method cannot show a good prediction ability, if it is too large, the model is more pruned to be overfitting.\n",
    "    2. maxDepth: Maximum depth of the tree. It will decrease the prediction ability if it is too small, and will\n",
    "    pruned to be overfitting if too large.\n",
    "    3. subsamplingRate: Fraction of the training data used for learning each decision tree, in range (0, 1].\n",
    "    \n",
    "I tried two experiment in cross-validation, in the first experiment, I tuned numTrees and maxDepth, and in the second experiment, I added subsamplingRate. The reason I split it into two is, the optimal parameters in the first experiment could help to reduce the parameter space in the second experiment, otherwise the cross-validation will be too slow."
   ]
  },
  {
   "cell_type": "code",
   "execution_count": 100,
   "metadata": {
    "collapsed": false
   },
   "outputs": [],
   "source": [
    "#cross-validation Pipeline\n",
    "rf = RandomForestRegressor(featuresCol=\"features\", labelCol=\"relevance\")\n",
    "pipeline_cv = Pipeline(stages=[assembler, rf])"
   ]
  },
  {
   "cell_type": "code",
   "execution_count": 96,
   "metadata": {
    "collapsed": true
   },
   "outputs": [],
   "source": [
    "from pyspark.ml.tuning import CrossValidator, ParamGridBuilder"
   ]
  },
  {
   "cell_type": "code",
   "execution_count": 101,
   "metadata": {
    "collapsed": true
   },
   "outputs": [],
   "source": [
    "#paramGridBuilder for parameter search\n",
    "paramGrid = ParamGridBuilder() \\\n",
    "    .addGrid(rf.numTrees, [50,100,200])\\\n",
    "    .addGrid(rf.maxDepth, [1,3,5])\\\n",
    "    .build()"
   ]
  },
  {
   "cell_type": "code",
   "execution_count": 102,
   "metadata": {
    "collapsed": true
   },
   "outputs": [],
   "source": [
    "#rmse for evalutor\n",
    "evaluator1 = RegressionEvaluator(\n",
    "    labelCol=\"relevance\", predictionCol=\"prediction\", metricName=\"rmse\")"
   ]
  },
  {
   "cell_type": "code",
   "execution_count": 103,
   "metadata": {
    "collapsed": false
   },
   "outputs": [],
   "source": [
    "#cross-validation random forest regressor built up\n",
    "crossval = CrossValidator(estimator=pipeline_cv,\n",
    "                          estimatorParamMaps=paramGrid,\n",
    "                          evaluator=evaluator1,\n",
    "                          numFolds=3)"
   ]
  },
  {
   "cell_type": "code",
   "execution_count": 104,
   "metadata": {
    "collapsed": false
   },
   "outputs": [],
   "source": [
    "## Train model. \n",
    "CV_model = crossval.fit(df_train_spark)"
   ]
  },
  {
   "cell_type": "code",
   "execution_count": 105,
   "metadata": {
    "collapsed": false
   },
   "outputs": [
    {
     "name": "stdout",
     "output_type": "stream",
     "text": [
      "RandomForestRegressionModel (uid=rfr_9d64846791ab) with 100 trees\n"
     ]
    }
   ],
   "source": [
    "#The best model in cross-validation models\n",
    "tree_model = CV_model.bestModel.stages[1]\n",
    "#print tree_model"
   ]
  },
  {
   "cell_type": "code",
   "execution_count": 106,
   "metadata": {
    "collapsed": false
   },
   "outputs": [
    {
     "name": "stdout",
     "output_type": "stream",
     "text": [
      "Best Param (regParam):  100\n",
      "Best Param (regParam):  5\n"
     ]
    }
   ],
   "source": [
    "#print the best parameters of the best model\n",
    "print 'Best Param (regParam): ', tree_model._java_obj.getNumTrees()\n",
    "print 'Best Param (regParam): ', tree_model._java_obj.getMaxDepth()"
   ]
  },
  {
   "cell_type": "code",
   "execution_count": 107,
   "metadata": {
    "collapsed": false
   },
   "outputs": [
    {
     "name": "stdout",
     "output_type": "stream",
     "text": [
      "Best Param (regParam):  100\n",
      "Best Param (regParam):  5\n",
      "Best Param (regParam):  0.5\n"
     ]
    }
   ],
   "source": [
    "#another cross-validation regressor, subsampling rate added\n",
    "paramGrid2 = ParamGridBuilder() \\\n",
    "    .addGrid(rf.numTrees, [50,100])\\\n",
    "    .addGrid(rf.maxDepth, [3,5])\\\n",
    "    .addGrid(rf.subsamplingRate, [0.5,0.7,0.9])\\ \n",
    "    .build()\n",
    "    \n",
    "crossval2 = CrossValidator(estimator=pipeline_cv,\n",
    "                          estimatorParamMaps=paramGrid2,\n",
    "                          evaluator=evaluator1,\n",
    "                          numFolds=3)\n",
    "CV_model2 = crossval2.fit(df_train_spark)\n",
    "tree_model2 = CV_model2.bestModel.stages[1]\n",
    "print 'Best Param (regParam): ', tree_model2._java_obj.getNumTrees()\n",
    "print 'Best Param (regParam): ', tree_model2._java_obj.getMaxDepth()\n",
    "print 'Best Param (regParam): ', tree_model2._java_obj.getSubsamplingRate()"
   ]
  },
  {
   "cell_type": "markdown",
   "metadata": {},
   "source": [
    "# 7. Kaggle Score\n",
    "Based on the cross-validation result, the best model could be used for final predictions. And I used the predictions for Kaggle evaluation."
   ]
  },
  {
   "cell_type": "code",
   "execution_count": 112,
   "metadata": {
    "collapsed": false
   },
   "outputs": [],
   "source": [
    "#Make predictions\n",
    "finalPredictions = CV_model2.bestModel.transform(df_test_spark)"
   ]
  },
  {
   "cell_type": "code",
   "execution_count": 116,
   "metadata": {
    "collapsed": false
   },
   "outputs": [],
   "source": [
    "#save predictions to pred.csv\n",
    "test_pred= finalPredictions.toPandas()\n",
    "test_pred = test_pred.rename(columns={'prediction': 'relevance'})\n",
    "test_pred.to_csv('pred.csv', columns = [\"id\", \"relevance\"], index = False)"
   ]
  },
  {
   "cell_type": "markdown",
   "metadata": {},
   "source": [
    "Here are the Kaggle scores:"
   ]
  },
  {
   "cell_type": "markdown",
   "metadata": {},
   "source": [
    "<img src=\"kaggle_score.png\">"
   ]
  },
  {
   "cell_type": "markdown",
   "metadata": {},
   "source": [
    "Based on the distribution of predictions, an obvious problem is that, the distribution is also highly skewed, like the training set predictions. It could be a error source for the regressor, and cause a large RMSE."
   ]
  },
  {
   "cell_type": "code",
   "execution_count": 110,
   "metadata": {
    "collapsed": false
   },
   "outputs": [
    {
     "data": {
      "text/plain": [
       "<matplotlib.axes._subplots.AxesSubplot at 0x7f2a6f3e9c90>"
      ]
     },
     "execution_count": 110,
     "metadata": {},
     "output_type": "execute_result"
    },
    {
     "data": {
      "image/png": "[encoded data removed]",
      "text/plain": [
       "<matplotlib.figure.Figure at 0x7f2a6be60dd0>"
      ]
     },
     "metadata": {},
     "output_type": "display_data"
    }
   ],
   "source": [
    "test_pred[\"prediction\"].plot.hist()"
   ]
  },
  {
   "cell_type": "markdown",
   "metadata": {
    "collapsed": true
   },
   "source": [
    "# 8. Conclusion"
   ]
  },
  {
   "cell_type": "markdown",
   "metadata": {},
   "source": [
    "In this project, I learnt how to deal with text features, and severl ways to convert the text features to numerical values, which should be very helpful for my understanding of NLP. I gained practical skills using spark machine learning library, and it is very useful for large dataset. I created meaningful features, and used ensemble methods to built up a regressor.\n",
    "\n",
    "The issues I met the most come from the computation resources on aspen cluster. As it is a really huge dataset, it is easily to occupied many computational resources during pre-processing and model training, and I really came across so many times that kernel crushed just before the model is about to be finished, so I have to restart it and train from the begining, it is very frustrated and a waste of time. After too many failures, I learned to always save the mid point result as a file. After the kernel crushed, I can read the mid point result from hard disk, and it helps to save a lot of time.\n",
    "\n",
    "The result of this project is meaningful, however, there are still some points I could try in the future. For example, word2vec and edit distance are the features that I did not used, but they could be helpful for performance. More powerful features could also be created, especially for the search term and product title, as there is evidence on feature importance showing that there should be strong relevance between them. And other models could also be tried, such as xgboost. And I think techniques to deal with imbalanced data, such as down-sampling, are also worth trying for our dataset.\n"
   ]
  }
 ],
 "metadata": {
  "kernelspec": {
   "display_name": "Python 2",
   "language": "python",
   "name": "python2"
  },
  "language_info": {
   "codemirror_mode": {
    "name": "ipython",
    "version": 2
   },
   "file_extension": ".py",
   "mimetype": "text/x-python",
   "name": "python",
   "nbconvert_exporter": "python",
   "pygments_lexer": "ipython2",
   "version": "2.7.13"
  }
 },
 "nbformat": 4,
 "nbformat_minor": 2
}
